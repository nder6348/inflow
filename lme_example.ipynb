{
 "cells": [
  {
   "cell_type": "markdown",
   "id": "91060ab0",
   "metadata": {},
   "source": [
    "# LME walk-through for RQ1\n",
    "\n",
    "This notebook walks through the analysis for the first research question of my paper (RQ1, MD regions - decoding analysis).\n",
    "\n",
    "I'm going to try to explain what I did and why, with code included so the steps can be followed. "
   ]
  },
  {
   "cell_type": "code",
   "execution_count": 13,
   "id": "b49f333a",
   "metadata": {},
   "outputs": [],
   "source": [
    "library(readr) # required for raw data import"
   ]
  },
  {
   "cell_type": "code",
   "execution_count": 14,
   "id": "2fed5978",
   "metadata": {},
   "outputs": [],
   "source": [
    "# First, import the csv file with the decoding results (as raw as possible so cleaning etc. can be done here)\n",
    "\n",
    "col_types_import <- cols(\n",
    "  Sub = col_double(),\n",
    "  decodingModel = col_factor(),\n",
    "  all.roi = col_factor(),\n",
    "  feature_decoded = col_factor(),\n",
    "  decAcc = col_double(),\n",
    "  attCond = col_factor(),\n",
    "  WasLocAtt = col_factor(),\n",
    "  WasFeaAtt = col_factor(),\n",
    "  CalibrationType = col_factor(),\n",
    "  feedbackGiven = col_factor(),\n",
    "  Age = col_double()\n",
    ")\n",
    "\n",
    "xdata <- read_csv(\"lme_data_MDrois_collHem.csv\", col_names=TRUE, col_types = col_types_import) \n"
   ]
  },
  {
   "cell_type": "code",
   "execution_count": 15,
   "id": "e2d029aa",
   "metadata": {},
   "outputs": [
    {
     "data": {
      "text/html": [
       "<table>\n",
       "<thead><tr><th scope=col>Sub</th><th scope=col>decodingModel</th><th scope=col>all.roi</th><th scope=col>feature_decoded</th><th scope=col>decAcc</th><th scope=col>attCond</th><th scope=col>WasLocAtt</th><th scope=col>WasFeaAtt</th><th scope=col>CalibrationType</th><th scope=col>feedbackGiven</th><th scope=col>Age</th></tr></thead>\n",
       "<tbody>\n",
       "\t<tr><td>1     </td><td>1v2   </td><td>IPS   </td><td>C     </td><td>100.00</td><td>aLaF  </td><td>1     </td><td>1     </td><td>0     </td><td>0     </td><td>30    </td></tr>\n",
       "\t<tr><td>2     </td><td>1v2   </td><td>IPS   </td><td>C     </td><td> 87.50</td><td>aLaF  </td><td>1     </td><td>1     </td><td>0     </td><td>0     </td><td>30    </td></tr>\n",
       "\t<tr><td>3     </td><td>1v2   </td><td>IPS   </td><td>C     </td><td> 87.50</td><td>aLaF  </td><td>1     </td><td>1     </td><td>0     </td><td>0     </td><td>24    </td></tr>\n",
       "\t<tr><td>4     </td><td>1v2   </td><td>IPS   </td><td>C     </td><td> 87.50</td><td>aLaF  </td><td>1     </td><td>1     </td><td>0     </td><td>0     </td><td>24    </td></tr>\n",
       "\t<tr><td>5     </td><td>1v2   </td><td>IPS   </td><td>C     </td><td> 68.75</td><td>aLaF  </td><td>1     </td><td>1     </td><td>0     </td><td>0     </td><td>28    </td></tr>\n",
       "\t<tr><td>6     </td><td>1v2   </td><td>IPS   </td><td>C     </td><td>100.00</td><td>aLaF  </td><td>1     </td><td>1     </td><td>0     </td><td>0     </td><td>23    </td></tr>\n",
       "</tbody>\n",
       "</table>\n"
      ],
      "text/latex": [
       "\\begin{tabular}{r|lllllllllll}\n",
       " Sub & decodingModel & all.roi & feature\\_decoded & decAcc & attCond & WasLocAtt & WasFeaAtt & CalibrationType & feedbackGiven & Age\\\\\n",
       "\\hline\n",
       "\t 1      & 1v2    & IPS    & C      & 100.00 & aLaF   & 1      & 1      & 0      & 0      & 30    \\\\\n",
       "\t 2      & 1v2    & IPS    & C      &  87.50 & aLaF   & 1      & 1      & 0      & 0      & 30    \\\\\n",
       "\t 3      & 1v2    & IPS    & C      &  87.50 & aLaF   & 1      & 1      & 0      & 0      & 24    \\\\\n",
       "\t 4      & 1v2    & IPS    & C      &  87.50 & aLaF   & 1      & 1      & 0      & 0      & 24    \\\\\n",
       "\t 5      & 1v2    & IPS    & C      &  68.75 & aLaF   & 1      & 1      & 0      & 0      & 28    \\\\\n",
       "\t 6      & 1v2    & IPS    & C      & 100.00 & aLaF   & 1      & 1      & 0      & 0      & 23    \\\\\n",
       "\\end{tabular}\n"
      ],
      "text/markdown": [
       "\n",
       "| Sub | decodingModel | all.roi | feature_decoded | decAcc | attCond | WasLocAtt | WasFeaAtt | CalibrationType | feedbackGiven | Age |\n",
       "|---|---|---|---|---|---|---|---|---|---|---|\n",
       "| 1      | 1v2    | IPS    | C      | 100.00 | aLaF   | 1      | 1      | 0      | 0      | 30     |\n",
       "| 2      | 1v2    | IPS    | C      |  87.50 | aLaF   | 1      | 1      | 0      | 0      | 30     |\n",
       "| 3      | 1v2    | IPS    | C      |  87.50 | aLaF   | 1      | 1      | 0      | 0      | 24     |\n",
       "| 4      | 1v2    | IPS    | C      |  87.50 | aLaF   | 1      | 1      | 0      | 0      | 24     |\n",
       "| 5      | 1v2    | IPS    | C      |  68.75 | aLaF   | 1      | 1      | 0      | 0      | 28     |\n",
       "| 6      | 1v2    | IPS    | C      | 100.00 | aLaF   | 1      | 1      | 0      | 0      | 23     |\n",
       "\n"
      ],
      "text/plain": [
       "  Sub decodingModel all.roi feature_decoded decAcc attCond WasLocAtt WasFeaAtt\n",
       "1 1   1v2           IPS     C               100.00 aLaF    1         1        \n",
       "2 2   1v2           IPS     C                87.50 aLaF    1         1        \n",
       "3 3   1v2           IPS     C                87.50 aLaF    1         1        \n",
       "4 4   1v2           IPS     C                87.50 aLaF    1         1        \n",
       "5 5   1v2           IPS     C                68.75 aLaF    1         1        \n",
       "6 6   1v2           IPS     C               100.00 aLaF    1         1        \n",
       "  CalibrationType feedbackGiven Age\n",
       "1 0               0             30 \n",
       "2 0               0             30 \n",
       "3 0               0             24 \n",
       "4 0               0             24 \n",
       "5 0               0             28 \n",
       "6 0               0             23 "
      ]
     },
     "metadata": {},
     "output_type": "display_data"
    }
   ],
   "source": [
    "# to have a quick peek/check of the data imported:\n",
    "\n",
    "head(xdata)"
   ]
  },
  {
   "cell_type": "code",
   "execution_count": 16,
   "id": "89e89e2c",
   "metadata": {},
   "outputs": [],
   "source": [
    "# data cleaning -----------------------------------------------------------\n",
    "# not necessary to read through unless interested...\n",
    "\n",
    "\n",
    "\n",
    "# reset the levels of decoding Model\n",
    "# changing this now so reference is 1v4 (7.1.21)\n",
    "decLevels <- c(\"1v4\", \"1v3\", \"2v4\", \"1v2\", \"2v3\", \"3v4\")\n",
    "\n",
    "library(gdata) # reorder factor uses gdata\n",
    "xdata$decodingModel <- gdata::reorder.factor(xdata$decodingModel, new.order = decLevels) # new order specified above\n",
    "\n",
    "# reorder factors for feature attended and loc attended (so 0 is reference group)\n",
    "xdata$WasLocAtt <- gdata::reorder.factor(xdata$WasLocAtt, new.order = c(\"0\", \"1\"))\n",
    "# xdata$WasLocAtt <- gdata::reorder.factor(xdata$WasLocAtt, new.order = c(\"1\", \"0\"))\n",
    "\n",
    "xdata$WasFeaAtt <- gdata::reorder.factor(xdata$WasFeaAtt, new.order = c(\"0\", \"1\"))\n",
    "\n",
    "\n",
    "# levels(xdata$all.roi) # consider changing these levels too...\n",
    "roiLevels <- c(\"ACC\", \"AIFO\", \"IFJ\", \"aIFS\", \"pIFS\", \"IPS\", \"PM\")\n",
    "\n",
    "xdata$all.roi <- gdata::reorder.factor(xdata$all.roi, new.order = roiLevels) \n",
    "\n",
    "# checked all re-ordered values and they match original\n",
    "\n",
    "# new order specified above\n",
    "\n",
    "\n",
    "#creating new version where averaged across decModel (as check)\n",
    "xdata.decModAvg <- aggregate(decAcc ~ \n",
    "                                 Sub + all.roi + feature_decoded + \n",
    "                                 WasLocAtt + WasFeaAtt + CalibrationType + \n",
    "                                 feedbackGiven + Age, \n",
    "                               data = xdata, mean)\n",
    "# creating new variables... -----------------------------------------------\n",
    "# removing references to colour for this version\n",
    "\n",
    "#decodingModel:\"1v4\", \"1v3\", \"2v4\", \"1v2\", \"2v3\", \"3v4\"\n",
    "# create new variable looking at decoding model split into easy/hard conditions\n",
    "\n",
    "# might be easier if I separate out\n",
    "Step3 <- c(\"1v4\")\n",
    "Step2 <- c(\"1v3\", \"2v4\")\n",
    "Step1 <- c(\"1v2\", \"2v3\", \"3v4\")\n",
    "\n",
    "# needs to correspond to order they're entered in in the factor levels of relavent variable\n",
    "\n",
    "Step3.l <- \"easy\"\n",
    "Step2.l <- \"mid\"\n",
    "Step1.l <- \"hard\"\n",
    "\n",
    "# categorised decoding Models\n",
    "xdata$decModel_cat <- NA\n",
    "xdata$decModel_cat <- ifelse(xdata$decodingModel %in% Step1, Step1.l, \n",
    "                             ifelse (xdata$decodingModel %in% Step2, Step2.l, Step3.l))\n",
    "xdata$decModel_cat<- as.factor(xdata$decModel_cat)\n",
    "xdata$decModel_cat <- gdata::reorder.factor(xdata$decModel_cat, \n",
    "                                            new.order = c(\"easy\", \"mid\", \"hard\")) \n",
    "# new order specified above #c(\"hard\", \"mid\", \"easy\")\n",
    "# reordering to be useful^\n"
   ]
  },
  {
   "cell_type": "markdown",
   "id": "52f5e133",
   "metadata": {},
   "source": [
    "# Some reminders on benefits of LMMs and why they were used\n",
    "\n",
    "While repeated measures ANOVAs can model participant (F1) or item level variability (F2), they cannot simultaneously take both sources of variability into account, so observations within a condition must be collapsed across either items or participants – thereby reducing statistical power. Also missing data here is deal with such that if a single observation is missing, entire case is deleted. Also, ANOVAs cannot provide info about magnitude or direction of an effect – don’t provide individual coefficient estimates for each predictor.\n",
    "\n",
    "LMMs dissect hierarchical and/or longitudinal data by separating the variance due to random sampling from the main effects\n",
    "That is, on top of the fixed effects normally used in classic linear models, LMMs resolve correlated residuals by introducing random effects that account for differences among random samples (I think randomly sampling within one person). They resolve heterogeneous variance using specific variance functions - thereby improving estimation accuracy and interpretation of fixed effects \n",
    "\n",
    "The notes I’m looked at looks at crossed rather than nested random effects --- mixed effects models with nested random effect structures referred to as ‘hierarchical linear models’ \n",
    "\n",
    "\n",
    "Additionally, for our purposes, LMMs...\n",
    "- allow for model selection\n",
    "- allow for us to test for influence of extraneous factors in a mixed effects design (e.g., caliType and FB)"
   ]
  },
  {
   "cell_type": "code",
   "execution_count": 17,
   "id": "b132d122",
   "metadata": {},
   "outputs": [],
   "source": [
    "# load lme4 package\n",
    "library(lme4)"
   ]
  },
  {
   "cell_type": "markdown",
   "id": "341ead2a",
   "metadata": {},
   "source": [
    "# REML\n",
    "\n",
    "RL said that this should be set to FALSE (i.e., uses ML instead) - this is what I've done below/for this analysis.\n",
    "\n",
    "This is consistent with forum advice (e.g., https://stats.stackexchange.com/questions/48671/what-is-restricted-maximum-likelihood-and-when-should-it-be-used)\n",
    "\n",
    "It seems that REML requires that the same fixed effects be specified in both models (so more for comparing random effects than fixed effects). Thus, you cannot compare models that differ in fixed effects if they are fitted by REML rather than ML - this is why it's recommended that you use REML=FALSE if you're trying to do model selection.\n",
    "\n",
    "I am doing model selection with lme, and specifically model selection of the fixed effects, so using REML=FALSE in all of the following models.\n",
    "\n",
    "\n",
    "Some additional points on this: When you defined REML = FALSE you used the Maximum Likelihood estimated instead of the Restricted Maximum Likelihood one. The REML estimates try to \"factor out\" the influence of the fixed effects X before moving into finding the optimal random-effect variance structure (see the thread \"What is \"restricted maximum likelihood\" and when should it be used?\" for more detailed information on the matter). Computationally this procedure is essentially done by multiplying both parts of the original LME model equation y=Xβ+Zγ+ϵ by a matrix K such that KX=0, i.e. you change both the original y to Ky as well as the Z to KZ. I strongly suspect that this effected the condition number of the design matrix Z and as such help you out of the numerical hard-place you found yourself in the first place (from https://stats.stackexchange.com/questions/242109/model-failed-to-converge-warning-in-lmer)."
   ]
  },
  {
   "cell_type": "markdown",
   "id": "8642152d",
   "metadata": {},
   "source": [
    "# Reference group:\n",
    "\n",
    "The reference group is important in considering results of lme (as all results for summary() are shown in reference to this reference group). In the data cleaning section of my script above, I set my reference group for the pairwise comparisons as 1v4 (as it is set as the first level):\n",
    "<br>i.e., "
   ]
  },
  {
   "cell_type": "code",
   "execution_count": 18,
   "id": "eaaa7a6d",
   "metadata": {},
   "outputs": [],
   "source": [
    "# not run\n",
    "# decLevels <- c(\"1v4\", \"1v3\", \"2v4\", \"1v2\", \"2v3\", \"3v4\")"
   ]
  },
  {
   "cell_type": "markdown",
   "id": "0fc0d547",
   "metadata": {},
   "source": [
    "<br>And for ROI, it's ACC:\n",
    "<br>i.e., \n",
    "<br>"
   ]
  },
  {
   "cell_type": "code",
   "execution_count": 19,
   "id": "94bb9190",
   "metadata": {},
   "outputs": [],
   "source": [
    "# not run\n",
    "# roiLevels <- c(\"ACC\", \"AIFO\", \"IFJ\", \"aIFS\", \"pIFS\", \"IPS\", \"PM\")"
   ]
  },
  {
   "cell_type": "markdown",
   "id": "72c05458",
   "metadata": {},
   "source": [
    "And for binary variables (e.g., LocAtt), it is 0:\n",
    "e.g., "
   ]
  },
  {
   "cell_type": "code",
   "execution_count": 20,
   "id": "c4aeae2c",
   "metadata": {},
   "outputs": [],
   "source": [
    "# not run\n",
    "# xdata$WasLocAtt = gdata::reorder.factor(xdata$WasLocAtt, new.order = c(\"0\", \"1\"))"
   ]
  },
  {
   "cell_type": "markdown",
   "id": "4b9e8c22",
   "metadata": {},
   "source": [
    "For feature, colour is the reference group (was the default)\n",
    "\n",
    "Note that this makes some of the results from lme (at least the summary results) not directly interpretable as, in most cases in my analysis at least, the reference group is not meaningful (e.g., for ROI, there is no reason why all MD decoding results should be compared to ACC - we want to compare them with each other). For two-level factors, the results from the lme output are clearly interpretable (as are other situations where the reference group makes sense). \n",
    "\n",
    "One way to deal with this - if appropriate for your analysis (it is not in mine), is to centre your variables in the first instance - this will allow you to interpret your results in reference to the \"mean\" of the group. (also z-transform?)"
   ]
  },
  {
   "cell_type": "markdown",
   "id": "a35ba350",
   "metadata": {},
   "source": [
    "# RQ 1: Do spatial and feature based attention have an interaction/multiplicative effect on decoding accuracy?\n",
    "includes factors relevant to the first research question\n",
    "\n",
    "The (fixed effect) factors to include were as follows:\n",
    "\n",
    "- WasLocAtt (binary: 0,1)\n",
    "- WasFeaAtt (binary: 0,1)\n",
    "- feature_decoded (binary: 0,1 [=C,S respectively])\n",
    "- all.roi (categorical: 7 levels: \"ACC\", \"AIFO\", \"IFJ\", \"aIFS\", \"pIFS\", \"IPS\", \"PM\")\n",
    "\n",
    "We did NOT include *decodingModel* here (as not directly relevant to Q1...)\n",
    "\n",
    "Output variable (DV) = decoding accuracy (continuous but limited: 0:100)"
   ]
  },
  {
   "cell_type": "markdown",
   "id": "1c66fa9f",
   "metadata": {},
   "source": [
    "## Inclusion of Calibration Type and Feedback Given factors\n",
    "\n",
    "We were also interested in seeing whether calibration type (**CalibrationType**: MQ or MPI) and the provision of trial-by-trial feedback (**feedbackGiven**) had an effect on our results\n",
    "\n",
    "We weren't sure whether to include CalibrationType and feedbackGiven as fixed or random effects. However, there were only \n",
    "two levels in both of these factors (0 or 1 - yes/no, respectively). \n",
    "\n",
    "It wasn't clear whether we could model factors with so few levels as a random effect (possibly mentioned by Roger Mundry?)\n",
    "In any case, I did try to include these as random effects, and they could not be fitted:"
   ]
  },
  {
   "cell_type": "code",
   "execution_count": 21,
   "id": "e314e8a7",
   "metadata": {},
   "outputs": [
    {
     "name": "stderr",
     "output_type": "stream",
     "text": [
      "boundary (singular) fit: see ?isSingular\n"
     ]
    }
   ],
   "source": [
    "lmer_RQ1_cali_FB <- lmer(decAcc ~ WasLocAtt * WasFeaAtt * feature_decoded * all.roi + \n",
    "                        (1|CalibrationType) + # note - (1|factor) is how to include random intercept\n",
    "                      (1|feedbackGiven) +\n",
    "                        (1|Sub),\n",
    "                      data = xdata, REML = FALSE)\n",
    "\n",
    "# note singular fit warning\n"
   ]
  },
  {
   "cell_type": "code",
   "execution_count": 22,
   "id": "84a772bf",
   "metadata": {},
   "outputs": [
    {
     "name": "stderr",
     "output_type": "stream",
     "text": [
      "Warning message in optwrap(optimizer, devfun, getStart(start, rho$pp), lower = rho$lower, :\n",
      "\"convergence code 1 from optimx: none\"boundary (singular) fit: see ?isSingular\n",
      "boundary (singular) fit: see ?isSingular\n",
      "boundary (singular) fit: see ?isSingular\n"
     ]
    }
   ],
   "source": [
    "# also tried with different optimiser (see later for more of an explanation on this)\n",
    "lmer_RQ1_cali_FB <- lmer(decAcc ~ WasLocAtt * WasFeaAtt * feature_decoded * all.roi + \n",
    "                        (1|CalibrationType) + # note - (1|factor) is how to include random intercept\n",
    "                      (1|feedbackGiven) +\n",
    "                        (1|Sub),\n",
    "                      data = xdata, REML = FALSE,\n",
    "                         lmerControl(optimizer ='optimx',\n",
    "                                  optCtrl=list(method='nlminb')))\n",
    "\n",
    "# still did not work\n",
    "\n",
    "# and calibration and FB separately:\n",
    "\n",
    "lmer_RQ1_cali <- lmer(decAcc ~ WasLocAtt * WasFeaAtt * feature_decoded * all.roi + \n",
    "                        (1|CalibrationType) + \n",
    "                        (1|Sub),\n",
    "                      data = xdata, REML = FALSE,\n",
    "                         lmerControl(optimizer ='optimx',\n",
    "                                  optCtrl=list(method='nlminb')))\n",
    "\n",
    "lmer_RQ1_FB <- lmer(decAcc ~ WasLocAtt * WasFeaAtt * feature_decoded * all.roi + \n",
    "                        (1|feedbackGiven) +\n",
    "                        (1|Sub),\n",
    "                      data = xdata, REML = FALSE,\n",
    "                         lmerControl(optimizer ='optimx',\n",
    "                                  optCtrl=list(method='nlminb')))\n",
    "\n",
    "# none of these were fitted"
   ]
  },
  {
   "cell_type": "code",
   "execution_count": 23,
   "id": "8d7395c9",
   "metadata": {},
   "outputs": [
    {
     "name": "stderr",
     "output_type": "stream",
     "text": [
      "boundary (singular) fit: see ?isSingular\n"
     ]
    }
   ],
   "source": [
    "# finally, tried with version that I will use later (with random slope included) for completeness:\n",
    "\n",
    "lmer_RQ1_cali_FB <- lmer(decAcc ~ WasLocAtt * WasFeaAtt * feature_decoded * all.roi + \n",
    "                        (1|CalibrationType) + # note - (1|factor) is how to include random intercept\n",
    "                      (1|feedbackGiven) +\n",
    "                        (WasLocAtt * WasFeaAtt|Sub),\n",
    "                      data = xdata, REML = FALSE,\n",
    "                         lmerControl(optimizer ='optimx',\n",
    "                                  optCtrl=list(method='nlminb')))\n",
    "\n",
    "# also save singular fit\n"
   ]
  },
  {
   "cell_type": "markdown",
   "id": "c43d6c4e",
   "metadata": {},
   "source": [
    "Given the above, we included Calibration type and FBgiven as **FIXED** effects"
   ]
  },
  {
   "cell_type": "markdown",
   "id": "3da68232",
   "metadata": {},
   "source": [
    "# Random effects and slopes:\n",
    "\n",
    "Recall that the factors we include as random effects as those factors which we're interested in understanding/knowing how they influence the VARIANCE of a response (while fixed effects are the ones we're interested in with regard to how they influence the MEAN of a response).\n",
    "\n",
    "Random effects should have at least 5 or 6 levels (which is why the inclusion of calibration type and FB given could not be included as random effects).\n",
    "\n",
    "My random effect is Subject.\n",
    "\n",
    "Allowing for individuals to vary (random intercepts) accounts for model to estimate each participant’s deviation from fixed estimate of mean RT, for instance. So in my instance, will allow for differences in decoding accuracy across participants.\n",
    "\n",
    "\n",
    "# What about random slopes? \n",
    "Including roi as a random slope would mean that we might expect the effect of attention condition on decoding to differ according to the roi – so effect of attention on decoding accuracy might be stronger in some areas – would perhaps expect this, so perhaps reasonable (did NOT include this, however).\n",
    "\n",
    "We did consider including the attention effect across participants as a random slope – as difference across attentional condition might differ between participants -- this was tested below\n"
   ]
  },
  {
   "cell_type": "code",
   "execution_count": 24,
   "id": "b9aa597b",
   "metadata": {},
   "outputs": [
    {
     "data": {
      "text/html": [
       "<table>\n",
       "<thead><tr><th></th><th scope=col>npar</th><th scope=col>AIC</th><th scope=col>BIC</th><th scope=col>logLik</th><th scope=col>deviance</th><th scope=col>Chisq</th><th scope=col>Df</th><th scope=col>Pr(&gt;Chisq)</th></tr></thead>\n",
       "<tbody>\n",
       "\t<tr><th scope=row>lmer_RQ1_noS</th><td>60           </td><td>88614.68     </td><td>89047.78     </td><td>-44247.34    </td><td>88494.68     </td><td>      NA     </td><td>NA           </td><td>           NA</td></tr>\n",
       "\t<tr><th scope=row>lmer_RQ1_wS</th><td>69           </td><td>88096.08     </td><td>88594.14     </td><td>-43979.04    </td><td>87958.08     </td><td>536.6006     </td><td> 9           </td><td>8.296048e-110</td></tr>\n",
       "</tbody>\n",
       "</table>\n"
      ],
      "text/latex": [
       "\\begin{tabular}{r|llllllll}\n",
       "  & npar & AIC & BIC & logLik & deviance & Chisq & Df & Pr(>Chisq)\\\\\n",
       "\\hline\n",
       "\tlmer\\_RQ1\\_noS & 60            & 88614.68      & 89047.78      & -44247.34     & 88494.68      &       NA      & NA            &            NA\\\\\n",
       "\tlmer\\_RQ1\\_wS & 69            & 88096.08      & 88594.14      & -43979.04     & 87958.08      & 536.6006      &  9            & 8.296048e-110\\\\\n",
       "\\end{tabular}\n"
      ],
      "text/markdown": [
       "\n",
       "| <!--/--> | npar | AIC | BIC | logLik | deviance | Chisq | Df | Pr(>Chisq) |\n",
       "|---|---|---|---|---|---|---|---|---|\n",
       "| lmer_RQ1_noS | 60            | 88614.68      | 89047.78      | -44247.34     | 88494.68      |       NA      | NA            |            NA |\n",
       "| lmer_RQ1_wS | 69            | 88096.08      | 88594.14      | -43979.04     | 87958.08      | 536.6006      |  9            | 8.296048e-110 |\n",
       "\n"
      ],
      "text/plain": [
       "             npar AIC      BIC      logLik    deviance Chisq    Df\n",
       "lmer_RQ1_noS 60   88614.68 89047.78 -44247.34 88494.68       NA NA\n",
       "lmer_RQ1_wS  69   88096.08 88594.14 -43979.04 87958.08 536.6006  9\n",
       "             Pr(>Chisq)   \n",
       "lmer_RQ1_noS            NA\n",
       "lmer_RQ1_wS  8.296048e-110"
      ]
     },
     "metadata": {},
     "output_type": "display_data"
    }
   ],
   "source": [
    "# To explore whether should just include random intercept for Sub, or whether we should include an attention effect \n",
    "# random slope, we ran the following...\n",
    "\n",
    "# withOUT slope - intercept only (i.e., (1|Sub))\n",
    "lmer_RQ1_noS <- lmer(decAcc ~ WasLocAtt * WasFeaAtt * feature_decoded * all.roi + \n",
    "                        CalibrationType + feedbackGiven +\n",
    "                        (1|Sub),\n",
    "                      data = xdata, REML = FALSE,\n",
    "                      lmerControl(optimizer ='optimx',\n",
    "                                  optCtrl=list(method='nlminb')))\n",
    "\n",
    "# WITH random slope (i.e., (WasLocAtt * WasFeaAtt|Sub))\n",
    "lmer_RQ1_wS <- lmer(decAcc ~ WasLocAtt * WasFeaAtt * feature_decoded * all.roi + \n",
    "                        CalibrationType + feedbackGiven +\n",
    "                        (WasLocAtt * WasFeaAtt|Sub),\n",
    "                      data = xdata, REML = FALSE,\n",
    "                      lmerControl(optimizer ='optimx',\n",
    "                                  optCtrl=list(method='nlminb')))\n",
    "\n",
    "# to compare:\n",
    "anova(lmer_RQ1_noS, lmer_RQ1_wS)\n",
    "\n",
    "# Results suggest that the version WITH slope explains more variance than the one without \n",
    "# (and AIC slightly lower with the slope included (wS), despite more parameters included)\n",
    "# thus, the random slope was included in the full model\n"
   ]
  },
  {
   "cell_type": "markdown",
   "id": "0863c53b",
   "metadata": {},
   "source": [
    "# Optimizers\n",
    "\n",
    "I have used optimizer ='optimx' in the below - the reasons for this are not well founded. Essentially one of my models did not converge with the default, and suggestions on forums said that different optimisers are worth considering in such cases - with \"optimx\" being one such alternative. Changing the optimiser worked for one of my models and for consistency, I have used it with all of my models. \n",
    "\n",
    "I have tested the difference between using the optimiser and using the default and the difference was minimal (see below). "
   ]
  },
  {
   "cell_type": "code",
   "execution_count": 25,
   "id": "5cc1104a",
   "metadata": {},
   "outputs": [
    {
     "data": {
      "text/html": [
       "<table>\n",
       "<thead><tr><th></th><th scope=col>npar</th><th scope=col>AIC</th><th scope=col>BIC</th><th scope=col>logLik</th><th scope=col>deviance</th><th scope=col>Chisq</th><th scope=col>Df</th><th scope=col>Pr(&gt;Chisq)</th></tr></thead>\n",
       "<tbody>\n",
       "\t<tr><th scope=row>lmer_RQ1_def</th><td>69          </td><td>88096.08    </td><td>88594.14    </td><td>-43979.04   </td><td>87958.08    </td><td>          NA</td><td>NA          </td><td>NA          </td></tr>\n",
       "\t<tr><th scope=row>lmer_RQ1_opt</th><td>69          </td><td>88096.08    </td><td>88594.14    </td><td>-43979.04   </td><td>87958.08    </td><td>2.294517e-06</td><td> 0          </td><td>NA          </td></tr>\n",
       "</tbody>\n",
       "</table>\n"
      ],
      "text/latex": [
       "\\begin{tabular}{r|llllllll}\n",
       "  & npar & AIC & BIC & logLik & deviance & Chisq & Df & Pr(>Chisq)\\\\\n",
       "\\hline\n",
       "\tlmer\\_RQ1\\_def & 69           & 88096.08     & 88594.14     & -43979.04    & 87958.08     &           NA & NA           & NA          \\\\\n",
       "\tlmer\\_RQ1\\_opt & 69           & 88096.08     & 88594.14     & -43979.04    & 87958.08     & 2.294517e-06 &  0           & NA          \\\\\n",
       "\\end{tabular}\n"
      ],
      "text/markdown": [
       "\n",
       "| <!--/--> | npar | AIC | BIC | logLik | deviance | Chisq | Df | Pr(>Chisq) |\n",
       "|---|---|---|---|---|---|---|---|---|\n",
       "| lmer_RQ1_def | 69           | 88096.08     | 88594.14     | -43979.04    | 87958.08     |           NA | NA           | NA           |\n",
       "| lmer_RQ1_opt | 69           | 88096.08     | 88594.14     | -43979.04    | 87958.08     | 2.294517e-06 |  0           | NA           |\n",
       "\n"
      ],
      "text/plain": [
       "             npar AIC      BIC      logLik    deviance Chisq        Df\n",
       "lmer_RQ1_def 69   88096.08 88594.14 -43979.04 87958.08           NA NA\n",
       "lmer_RQ1_opt 69   88096.08 88594.14 -43979.04 87958.08 2.294517e-06  0\n",
       "             Pr(>Chisq)\n",
       "lmer_RQ1_def NA        \n",
       "lmer_RQ1_opt NA        "
      ]
     },
     "metadata": {},
     "output_type": "display_data"
    }
   ],
   "source": [
    "lmer_RQ1_def <- lmer(decAcc ~ WasLocAtt * WasFeaAtt * feature_decoded * all.roi + \n",
    "                        CalibrationType + feedbackGiven +\n",
    "                        (WasLocAtt * WasFeaAtt|Sub),\n",
    "                      data = xdata, REML = FALSE)\n",
    "\n",
    "lmer_RQ1_opt <- lmer(decAcc ~ WasLocAtt * WasFeaAtt * feature_decoded * all.roi + \n",
    "                        CalibrationType + feedbackGiven +\n",
    "                        (WasLocAtt * WasFeaAtt|Sub),\n",
    "                      data = xdata, REML = FALSE,\n",
    "                      lmerControl(optimizer ='optimx',\n",
    "                                  optCtrl=list(method='nlminb')))\n",
    "\n",
    "anova(lmer_RQ1_def, lmer_RQ1_opt)\n",
    "# anova results suggest no difference between the optimisers\n"
   ]
  },
  {
   "cell_type": "code",
   "execution_count": 26,
   "id": "69a92b1b",
   "metadata": {},
   "outputs": [
    {
     "name": "stderr",
     "output_type": "stream",
     "text": [
      "\n",
      "Correlation matrix not shown by default, as p = 58 > 12.\n",
      "Use print(obj, correlation=TRUE)  or\n",
      "    vcov(obj)        if you need it\n",
      "\n"
     ]
    },
    {
     "data": {
      "text/plain": [
       "Linear mixed model fit by maximum likelihood  ['lmerMod']\n",
       "Formula: decAcc ~ WasLocAtt * WasFeaAtt * feature_decoded * all.roi +  \n",
       "    CalibrationType + feedbackGiven + (WasLocAtt * WasFeaAtt |      Sub)\n",
       "   Data: xdata\n",
       "\n",
       "     AIC      BIC   logLik deviance df.resid \n",
       " 88096.1  88594.1 -43979.0  87958.1    10011 \n",
       "\n",
       "Scaled residuals: \n",
       "    Min      1Q  Median      3Q     Max \n",
       "-4.0723 -0.6913  0.0168  0.7211  2.8499 \n",
       "\n",
       "Random effects:\n",
       " Groups   Name                  Variance Std.Dev. Corr             \n",
       " Sub      (Intercept)            31.46    5.609                    \n",
       "          WasLocAtt1             63.47    7.967   -0.77            \n",
       "          WasFeaAtt1             75.18    8.671   -0.79  0.51      \n",
       "          WasLocAtt1:WasFeaAtt1 143.87   11.995    0.62 -0.80 -0.61\n",
       " Residual                       351.79   18.756                    \n",
       "Number of obs: 10080, groups:  Sub, 30\n",
       "\n",
       "Fixed effects:\n",
       "                                                   Estimate Std. Error t value\n",
       "(Intercept)                                        48.18186    1.82375  26.419\n",
       "WasLocAtt1                                          2.22222    2.45444   0.905\n",
       "WasFeaAtt1                                          5.27778    2.53276   2.084\n",
       "feature_decodedS                                    3.33333    1.97705   1.686\n",
       "all.roiAIFO                                         0.97222    1.97705   0.492\n",
       "all.roiIFJ                                         -0.17361    1.97705  -0.088\n",
       "all.roiaIFS                                         3.05556    1.97705   1.546\n",
       "all.roipIFS                                         0.69444    1.97705   0.351\n",
       "all.roiIPS                                          0.24306    1.97705   0.123\n",
       "all.roiPM                                           0.90278    1.97705   0.457\n",
       "CalibrationType1                                   -0.91551    1.01735  -0.900\n",
       "feedbackGiven1                                     -0.04413    1.35273  -0.033\n",
       "WasLocAtt1:WasFeaAtt1                              21.04167    3.55151   5.925\n",
       "WasLocAtt1:feature_decodedS                        -3.40278    2.79598  -1.217\n",
       "WasFeaAtt1:feature_decodedS                        -8.12500    2.79598  -2.906\n",
       "WasLocAtt1:all.roiAIFO                             -0.93750    2.79598  -0.335\n",
       "WasLocAtt1:all.roiIFJ                              -0.62500    2.79598  -0.224\n",
       "WasLocAtt1:all.roiaIFS                             -2.67361    2.79598  -0.956\n",
       "WasLocAtt1:all.roipIFS                             -0.45139    2.79598  -0.161\n",
       "WasLocAtt1:all.roiIPS                              -1.42361    2.79598  -0.509\n",
       "WasLocAtt1:all.roiPM                               -3.05556    2.79598  -1.093\n",
       "WasFeaAtt1:all.roiAIFO                             -2.77778    2.79598  -0.993\n",
       "WasFeaAtt1:all.roiIFJ                              -1.35417    2.79598  -0.484\n",
       "WasFeaAtt1:all.roiaIFS                             -4.27083    2.79598  -1.527\n",
       "WasFeaAtt1:all.roipIFS                             -1.21528    2.79598  -0.435\n",
       "WasFeaAtt1:all.roiIPS                               0.34722    2.79598   0.124\n",
       "WasFeaAtt1:all.roiPM                                0.27778    2.79598   0.099\n",
       "feature_decodedS:all.roiAIFO                        0.13889    2.79598   0.050\n",
       "feature_decodedS:all.roiIFJ                         2.63889    2.79598   0.944\n",
       "feature_decodedS:all.roiaIFS                       -1.66667    2.79598  -0.596\n",
       "feature_decodedS:all.roipIFS                        2.88194    2.79598   1.031\n",
       "feature_decodedS:all.roiIPS                         2.46528    2.79598   0.882\n",
       "feature_decodedS:all.roiPM                         -0.65972    2.79598  -0.236\n",
       "WasLocAtt1:WasFeaAtt1:feature_decodedS             -0.90278    3.95411  -0.228\n",
       "WasLocAtt1:WasFeaAtt1:all.roiAIFO                   1.04167    3.95411   0.263\n",
       "WasLocAtt1:WasFeaAtt1:all.roiIFJ                    5.55556    3.95411   1.405\n",
       "WasLocAtt1:WasFeaAtt1:all.roiaIFS                  -1.25000    3.95411  -0.316\n",
       "WasLocAtt1:WasFeaAtt1:all.roipIFS                   0.38194    3.95411   0.097\n",
       "WasLocAtt1:WasFeaAtt1:all.roiIPS                   -0.62500    3.95411  -0.158\n",
       "WasLocAtt1:WasFeaAtt1:all.roiPM                    -5.48611    3.95411  -1.387\n",
       "WasLocAtt1:feature_decodedS:all.roiAIFO            -0.76389    3.95411  -0.193\n",
       "WasLocAtt1:feature_decodedS:all.roiIFJ              0.06944    3.95411   0.018\n",
       "WasLocAtt1:feature_decodedS:all.roiaIFS             2.15278    3.95411   0.544\n",
       "WasLocAtt1:feature_decodedS:all.roipIFS            -0.27778    3.95411  -0.070\n",
       "WasLocAtt1:feature_decodedS:all.roiIPS             -1.42361    3.95411  -0.360\n",
       "WasLocAtt1:feature_decodedS:all.roiPM               3.68056    3.95411   0.931\n",
       "WasFeaAtt1:feature_decodedS:all.roiAIFO             1.59722    3.95411   0.404\n",
       "WasFeaAtt1:feature_decodedS:all.roiIFJ              0.90278    3.95411   0.228\n",
       "WasFeaAtt1:feature_decodedS:all.roiaIFS             4.54861    3.95411   1.150\n",
       "WasFeaAtt1:feature_decodedS:all.roipIFS            -1.21528    3.95411  -0.307\n",
       "WasFeaAtt1:feature_decodedS:all.roiIPS              0.83333    3.95411   0.211\n",
       "WasFeaAtt1:feature_decodedS:all.roiPM               2.43056    3.95411   0.615\n",
       "WasLocAtt1:WasFeaAtt1:feature_decodedS:all.roiAIFO -0.52083    5.59195  -0.093\n",
       "WasLocAtt1:WasFeaAtt1:feature_decodedS:all.roiIFJ  -3.09028    5.59195  -0.553\n",
       "WasLocAtt1:WasFeaAtt1:feature_decodedS:all.roiaIFS -4.44444    5.59195  -0.795\n",
       "WasLocAtt1:WasFeaAtt1:feature_decodedS:all.roipIFS -3.15972    5.59195  -0.565\n",
       "WasLocAtt1:WasFeaAtt1:feature_decodedS:all.roiIPS  -0.62500    5.59195  -0.112\n",
       "WasLocAtt1:WasFeaAtt1:feature_decodedS:all.roiPM   -4.82639    5.59195  -0.863"
      ]
     },
     "metadata": {},
     "output_type": "display_data"
    }
   ],
   "source": [
    "# can also compare output (from summary()) for each model\n",
    "# -- this shows minimal differences between the optimisers\n",
    "\n",
    "# here for the default version:\n",
    "summary(lmer_RQ1_def)\n"
   ]
  },
  {
   "cell_type": "code",
   "execution_count": 27,
   "id": "cbc8348e",
   "metadata": {},
   "outputs": [
    {
     "name": "stderr",
     "output_type": "stream",
     "text": [
      "\n",
      "Correlation matrix not shown by default, as p = 58 > 12.\n",
      "Use print(obj, correlation=TRUE)  or\n",
      "    vcov(obj)        if you need it\n",
      "\n"
     ]
    },
    {
     "data": {
      "text/plain": [
       "Linear mixed model fit by maximum likelihood  ['lmerMod']\n",
       "Formula: decAcc ~ WasLocAtt * WasFeaAtt * feature_decoded * all.roi +  \n",
       "    CalibrationType + feedbackGiven + (WasLocAtt * WasFeaAtt |      Sub)\n",
       "   Data: xdata\n",
       "Control: lmerControl(optimizer = \"optimx\", optCtrl = list(method = \"nlminb\"))\n",
       "\n",
       "     AIC      BIC   logLik deviance df.resid \n",
       " 88096.1  88594.1 -43979.0  87958.1    10011 \n",
       "\n",
       "Scaled residuals: \n",
       "    Min      1Q  Median      3Q     Max \n",
       "-4.0723 -0.6912  0.0168  0.7211  2.8499 \n",
       "\n",
       "Random effects:\n",
       " Groups   Name                  Variance Std.Dev. Corr             \n",
       " Sub      (Intercept)            31.46    5.609                    \n",
       "          WasLocAtt1             63.44    7.965   -0.77            \n",
       "          WasFeaAtt1             75.18    8.671   -0.79  0.51      \n",
       "          WasLocAtt1:WasFeaAtt1 143.81   11.992    0.62 -0.80 -0.61\n",
       " Residual                       351.79   18.756                    \n",
       "Number of obs: 10080, groups:  Sub, 30\n",
       "\n",
       "Fixed effects:\n",
       "                                                   Estimate Std. Error t value\n",
       "(Intercept)                                        48.18182    1.82375  26.419\n",
       "WasLocAtt1                                          2.22222    2.45429   0.905\n",
       "WasFeaAtt1                                          5.27778    2.53272   2.084\n",
       "feature_decodedS                                    3.33333    1.97705   1.686\n",
       "all.roiAIFO                                         0.97222    1.97705   0.492\n",
       "all.roiIFJ                                         -0.17361    1.97705  -0.088\n",
       "all.roiaIFS                                         3.05556    1.97705   1.546\n",
       "all.roipIFS                                         0.69444    1.97705   0.351\n",
       "all.roiIPS                                          0.24306    1.97705   0.123\n",
       "all.roiPM                                           0.90278    1.97705   0.457\n",
       "CalibrationType1                                   -0.91551    1.01744  -0.900\n",
       "feedbackGiven1                                     -0.04390    1.35285  -0.032\n",
       "WasLocAtt1:WasFeaAtt1                              21.04167    3.55120   5.925\n",
       "WasLocAtt1:feature_decodedS                        -3.40278    2.79598  -1.217\n",
       "WasFeaAtt1:feature_decodedS                        -8.12500    2.79598  -2.906\n",
       "WasLocAtt1:all.roiAIFO                             -0.93750    2.79598  -0.335\n",
       "WasLocAtt1:all.roiIFJ                              -0.62500    2.79598  -0.224\n",
       "WasLocAtt1:all.roiaIFS                             -2.67361    2.79598  -0.956\n",
       "WasLocAtt1:all.roipIFS                             -0.45139    2.79598  -0.161\n",
       "WasLocAtt1:all.roiIPS                              -1.42361    2.79598  -0.509\n",
       "WasLocAtt1:all.roiPM                               -3.05556    2.79598  -1.093\n",
       "WasFeaAtt1:all.roiAIFO                             -2.77778    2.79598  -0.993\n",
       "WasFeaAtt1:all.roiIFJ                              -1.35417    2.79598  -0.484\n",
       "WasFeaAtt1:all.roiaIFS                             -4.27083    2.79598  -1.527\n",
       "WasFeaAtt1:all.roipIFS                             -1.21528    2.79598  -0.435\n",
       "WasFeaAtt1:all.roiIPS                               0.34722    2.79598   0.124\n",
       "WasFeaAtt1:all.roiPM                                0.27778    2.79598   0.099\n",
       "feature_decodedS:all.roiAIFO                        0.13889    2.79598   0.050\n",
       "feature_decodedS:all.roiIFJ                         2.63889    2.79598   0.944\n",
       "feature_decodedS:all.roiaIFS                       -1.66667    2.79598  -0.596\n",
       "feature_decodedS:all.roipIFS                        2.88194    2.79598   1.031\n",
       "feature_decodedS:all.roiIPS                         2.46528    2.79598   0.882\n",
       "feature_decodedS:all.roiPM                         -0.65972    2.79598  -0.236\n",
       "WasLocAtt1:WasFeaAtt1:feature_decodedS             -0.90278    3.95411  -0.228\n",
       "WasLocAtt1:WasFeaAtt1:all.roiAIFO                   1.04167    3.95411   0.263\n",
       "WasLocAtt1:WasFeaAtt1:all.roiIFJ                    5.55556    3.95411   1.405\n",
       "WasLocAtt1:WasFeaAtt1:all.roiaIFS                  -1.25000    3.95411  -0.316\n",
       "WasLocAtt1:WasFeaAtt1:all.roipIFS                   0.38194    3.95411   0.097\n",
       "WasLocAtt1:WasFeaAtt1:all.roiIPS                   -0.62500    3.95411  -0.158\n",
       "WasLocAtt1:WasFeaAtt1:all.roiPM                    -5.48611    3.95411  -1.387\n",
       "WasLocAtt1:feature_decodedS:all.roiAIFO            -0.76389    3.95411  -0.193\n",
       "WasLocAtt1:feature_decodedS:all.roiIFJ              0.06944    3.95411   0.018\n",
       "WasLocAtt1:feature_decodedS:all.roiaIFS             2.15278    3.95411   0.544\n",
       "WasLocAtt1:feature_decodedS:all.roipIFS            -0.27778    3.95411  -0.070\n",
       "WasLocAtt1:feature_decodedS:all.roiIPS             -1.42361    3.95411  -0.360\n",
       "WasLocAtt1:feature_decodedS:all.roiPM               3.68056    3.95411   0.931\n",
       "WasFeaAtt1:feature_decodedS:all.roiAIFO             1.59722    3.95411   0.404\n",
       "WasFeaAtt1:feature_decodedS:all.roiIFJ              0.90278    3.95411   0.228\n",
       "WasFeaAtt1:feature_decodedS:all.roiaIFS             4.54861    3.95411   1.150\n",
       "WasFeaAtt1:feature_decodedS:all.roipIFS            -1.21528    3.95411  -0.307\n",
       "WasFeaAtt1:feature_decodedS:all.roiIPS              0.83333    3.95411   0.211\n",
       "WasFeaAtt1:feature_decodedS:all.roiPM               2.43056    3.95411   0.615\n",
       "WasLocAtt1:WasFeaAtt1:feature_decodedS:all.roiAIFO -0.52083    5.59195  -0.093\n",
       "WasLocAtt1:WasFeaAtt1:feature_decodedS:all.roiIFJ  -3.09028    5.59195  -0.553\n",
       "WasLocAtt1:WasFeaAtt1:feature_decodedS:all.roiaIFS -4.44444    5.59195  -0.795\n",
       "WasLocAtt1:WasFeaAtt1:feature_decodedS:all.roipIFS -3.15972    5.59195  -0.565\n",
       "WasLocAtt1:WasFeaAtt1:feature_decodedS:all.roiIPS  -0.62500    5.59195  -0.112\n",
       "WasLocAtt1:WasFeaAtt1:feature_decodedS:all.roiPM   -4.82639    5.59195  -0.863"
      ]
     },
     "metadata": {},
     "output_type": "display_data"
    }
   ],
   "source": [
    "# here for the optimiser version:\n",
    "summary(lmer_RQ1_opt)"
   ]
  },
  {
   "cell_type": "markdown",
   "id": "1b397016",
   "metadata": {},
   "source": [
    "## Running RQ1 model\n",
    "\n",
    "#### *Now we're ready to run our full model!*\n",
    "\n",
    "All core factors included in the full model, with all interactions allowed for factors of interest \n",
    "(i.e., CalibrationType and feedbackGiven only included as possible main fixed effects)\n",
    "- Random effects slope of attention effect over subjects included\n",
    "- optimiser specified and ML fitted\n"
   ]
  },
  {
   "cell_type": "code",
   "execution_count": 28,
   "id": "9dfb300b",
   "metadata": {},
   "outputs": [
    {
     "name": "stderr",
     "output_type": "stream",
     "text": [
      "\n",
      "Correlation matrix not shown by default, as p = 58 > 12.\n",
      "Use print(obj, correlation=TRUE)  or\n",
      "    vcov(obj)        if you need it\n",
      "\n"
     ]
    },
    {
     "data": {
      "text/plain": [
       "Linear mixed model fit by maximum likelihood  ['lmerMod']\n",
       "Formula: decAcc ~ WasLocAtt * WasFeaAtt * feature_decoded * all.roi +  \n",
       "    CalibrationType + feedbackGiven + (WasLocAtt * WasFeaAtt |      Sub)\n",
       "   Data: xdata\n",
       "Control: lmerControl(optimizer = \"optimx\", optCtrl = list(method = \"nlminb\"))\n",
       "\n",
       "     AIC      BIC   logLik deviance df.resid \n",
       " 88096.1  88594.1 -43979.0  87958.1    10011 \n",
       "\n",
       "Scaled residuals: \n",
       "    Min      1Q  Median      3Q     Max \n",
       "-4.0723 -0.6912  0.0168  0.7211  2.8499 \n",
       "\n",
       "Random effects:\n",
       " Groups   Name                  Variance Std.Dev. Corr             \n",
       " Sub      (Intercept)            31.46    5.609                    \n",
       "          WasLocAtt1             63.44    7.965   -0.77            \n",
       "          WasFeaAtt1             75.18    8.671   -0.79  0.51      \n",
       "          WasLocAtt1:WasFeaAtt1 143.81   11.992    0.62 -0.80 -0.61\n",
       " Residual                       351.79   18.756                    \n",
       "Number of obs: 10080, groups:  Sub, 30\n",
       "\n",
       "Fixed effects:\n",
       "                                                   Estimate Std. Error t value\n",
       "(Intercept)                                        48.18182    1.82375  26.419\n",
       "WasLocAtt1                                          2.22222    2.45429   0.905\n",
       "WasFeaAtt1                                          5.27778    2.53272   2.084\n",
       "feature_decodedS                                    3.33333    1.97705   1.686\n",
       "all.roiAIFO                                         0.97222    1.97705   0.492\n",
       "all.roiIFJ                                         -0.17361    1.97705  -0.088\n",
       "all.roiaIFS                                         3.05556    1.97705   1.546\n",
       "all.roipIFS                                         0.69444    1.97705   0.351\n",
       "all.roiIPS                                          0.24306    1.97705   0.123\n",
       "all.roiPM                                           0.90278    1.97705   0.457\n",
       "CalibrationType1                                   -0.91551    1.01744  -0.900\n",
       "feedbackGiven1                                     -0.04389    1.35285  -0.032\n",
       "WasLocAtt1:WasFeaAtt1                              21.04167    3.55120   5.925\n",
       "WasLocAtt1:feature_decodedS                        -3.40278    2.79598  -1.217\n",
       "WasFeaAtt1:feature_decodedS                        -8.12500    2.79598  -2.906\n",
       "WasLocAtt1:all.roiAIFO                             -0.93750    2.79598  -0.335\n",
       "WasLocAtt1:all.roiIFJ                              -0.62500    2.79598  -0.224\n",
       "WasLocAtt1:all.roiaIFS                             -2.67361    2.79598  -0.956\n",
       "WasLocAtt1:all.roipIFS                             -0.45139    2.79598  -0.161\n",
       "WasLocAtt1:all.roiIPS                              -1.42361    2.79598  -0.509\n",
       "WasLocAtt1:all.roiPM                               -3.05556    2.79598  -1.093\n",
       "WasFeaAtt1:all.roiAIFO                             -2.77778    2.79598  -0.993\n",
       "WasFeaAtt1:all.roiIFJ                              -1.35417    2.79598  -0.484\n",
       "WasFeaAtt1:all.roiaIFS                             -4.27083    2.79598  -1.527\n",
       "WasFeaAtt1:all.roipIFS                             -1.21528    2.79598  -0.435\n",
       "WasFeaAtt1:all.roiIPS                               0.34722    2.79598   0.124\n",
       "WasFeaAtt1:all.roiPM                                0.27778    2.79598   0.099\n",
       "feature_decodedS:all.roiAIFO                        0.13889    2.79598   0.050\n",
       "feature_decodedS:all.roiIFJ                         2.63889    2.79598   0.944\n",
       "feature_decodedS:all.roiaIFS                       -1.66667    2.79598  -0.596\n",
       "feature_decodedS:all.roipIFS                        2.88194    2.79598   1.031\n",
       "feature_decodedS:all.roiIPS                         2.46528    2.79598   0.882\n",
       "feature_decodedS:all.roiPM                         -0.65972    2.79598  -0.236\n",
       "WasLocAtt1:WasFeaAtt1:feature_decodedS             -0.90278    3.95411  -0.228\n",
       "WasLocAtt1:WasFeaAtt1:all.roiAIFO                   1.04167    3.95411   0.263\n",
       "WasLocAtt1:WasFeaAtt1:all.roiIFJ                    5.55556    3.95411   1.405\n",
       "WasLocAtt1:WasFeaAtt1:all.roiaIFS                  -1.25000    3.95411  -0.316\n",
       "WasLocAtt1:WasFeaAtt1:all.roipIFS                   0.38194    3.95411   0.097\n",
       "WasLocAtt1:WasFeaAtt1:all.roiIPS                   -0.62500    3.95411  -0.158\n",
       "WasLocAtt1:WasFeaAtt1:all.roiPM                    -5.48611    3.95411  -1.387\n",
       "WasLocAtt1:feature_decodedS:all.roiAIFO            -0.76389    3.95411  -0.193\n",
       "WasLocAtt1:feature_decodedS:all.roiIFJ              0.06944    3.95411   0.018\n",
       "WasLocAtt1:feature_decodedS:all.roiaIFS             2.15278    3.95411   0.544\n",
       "WasLocAtt1:feature_decodedS:all.roipIFS            -0.27778    3.95411  -0.070\n",
       "WasLocAtt1:feature_decodedS:all.roiIPS             -1.42361    3.95411  -0.360\n",
       "WasLocAtt1:feature_decodedS:all.roiPM               3.68056    3.95411   0.931\n",
       "WasFeaAtt1:feature_decodedS:all.roiAIFO             1.59722    3.95411   0.404\n",
       "WasFeaAtt1:feature_decodedS:all.roiIFJ              0.90278    3.95411   0.228\n",
       "WasFeaAtt1:feature_decodedS:all.roiaIFS             4.54861    3.95411   1.150\n",
       "WasFeaAtt1:feature_decodedS:all.roipIFS            -1.21528    3.95411  -0.307\n",
       "WasFeaAtt1:feature_decodedS:all.roiIPS              0.83333    3.95411   0.211\n",
       "WasFeaAtt1:feature_decodedS:all.roiPM               2.43056    3.95411   0.615\n",
       "WasLocAtt1:WasFeaAtt1:feature_decodedS:all.roiAIFO -0.52083    5.59195  -0.093\n",
       "WasLocAtt1:WasFeaAtt1:feature_decodedS:all.roiIFJ  -3.09028    5.59195  -0.553\n",
       "WasLocAtt1:WasFeaAtt1:feature_decodedS:all.roiaIFS -4.44444    5.59195  -0.795\n",
       "WasLocAtt1:WasFeaAtt1:feature_decodedS:all.roipIFS -3.15972    5.59195  -0.565\n",
       "WasLocAtt1:WasFeaAtt1:feature_decodedS:all.roiIPS  -0.62500    5.59195  -0.112\n",
       "WasLocAtt1:WasFeaAtt1:feature_decodedS:all.roiPM   -4.82639    5.59195  -0.863"
      ]
     },
     "metadata": {},
     "output_type": "display_data"
    }
   ],
   "source": [
    "lmer_RQ1_full <- lmer(decAcc ~ WasLocAtt * WasFeaAtt * feature_decoded * all.roi + \n",
    "                        CalibrationType + feedbackGiven +\n",
    "                        (WasLocAtt * WasFeaAtt|Sub),\n",
    "                      data = xdata, REML = FALSE,\n",
    "                      lmerControl(optimizer ='optimx',\n",
    "                                  optCtrl=list(method='nlminb')))\n",
    "\n",
    "# you can look at the main results of this with summary()\n",
    "summary(lmer_RQ1_full)"
   ]
  },
  {
   "cell_type": "markdown",
   "id": "13e5d8df",
   "metadata": {},
   "source": [
    "# Model selection\n",
    "\n",
    "There are a few ways to look at which models to include. A simple way (and the main approach I've used) is to use the step function (included in the lmerTest package) with your full model. This runs a backward elimination of random-effect terms followed by backward elimination of fixed-effect terms in the specified linear mixed model. \n",
    "\n",
    "Ultimately, you get a table indicating which random and fixed effects to eliminate and which to keep - essentially, the factors to include in your final model. \n"
   ]
  },
  {
   "cell_type": "code",
   "execution_count": 29,
   "id": "5fe25a4b",
   "metadata": {},
   "outputs": [
    {
     "name": "stderr",
     "output_type": "stream",
     "text": [
      "Warning message:\n",
      "\"package 'lmerTest' was built under R version 3.6.3\"\n",
      "Attaching package: 'lmerTest'\n",
      "\n",
      "The following object is masked from 'package:lme4':\n",
      "\n",
      "    lmer\n",
      "\n",
      "The following object is masked from 'package:stats':\n",
      "\n",
      "    step\n",
      "\n"
     ]
    }
   ],
   "source": [
    "# test with step\n",
    "library(lmerTest) # need for step fnc"
   ]
  },
  {
   "cell_type": "code",
   "execution_count": 30,
   "id": "f5f7d087",
   "metadata": {},
   "outputs": [
    {
     "ename": "ERROR",
     "evalue": "Error in `$<-`(`*tmp*`, formula, value = Terms): no method for assigning subsets of this S4 class\n",
     "output_type": "error",
     "traceback": [
      "Error in `$<-`(`*tmp*`, formula, value = Terms): no method for assigning subsets of this S4 class\nTraceback:\n",
      "1. step(lmer_RQ1_full)",
      "2. step.default(lmer_RQ1_full)",
      "3. stats::step(object, ...)"
     ]
    }
   ],
   "source": [
    "step_res <- step(lmer_RQ1_full) # seems to have some problems here, but not on my local PC\n",
    "\n",
    "# display elimination results\n",
    "step_res "
   ]
  },
  {
   "cell_type": "markdown",
   "id": "c0401c00",
   "metadata": {},
   "source": [
    "--\n",
    "\n",
    "The above results suggest the elimination of six factors: \n",
    "\n",
    "> - *feedbackGiven*                                      \n",
    "> - *WasLocAtt:WasFeaAtt:feature_decoded:all.roi*         \n",
    "> - *WasLocAtt:feature_decoded:all.roi*                  \n",
    "> - *WasFeaAtt:feature_decoded:all.roi*                  \n",
    "> - *feature_decoded:all.roi*                             \n",
    "> - *CalibrationType*                                     \n",
    "\n",
    "Leaving this as the final model (assigned later to **lmer_RQ1_final**):\n",
    "\n",
    "> <font color='green'>\n",
    "decAcc ~ WasLocAtt + WasFeaAtt + feature_decoded + all.roi + \n",
    "<br> (WasLocAtt * WasFeaAtt | Sub) + \n",
    "<br> WasLocAtt:WasFeaAtt + WasLocAtt:feature_decoded + \n",
    "<br> WasFeaAtt:feature_decoded + \n",
    "<br> WasLocAtt:all.roi + \n",
    "<br> WasFeaAtt:all.roi + \n",
    "<br> WasLocAtt:WasFeaAtt:feature_decoded + \n",
    "<br> WasLocAtt:WasFeaAtt:all.roi\n",
    "</font>\n",
    "\n",
    "\n",
    "--- \n",
    "\n",
    "\n",
    "Another approach suggested to me is a more systematic approach to testing for the inclusion of each factor. This looks at the sequential addition of each factor above that previously specified (so it may not be the best approach as cannot have a higher-order factor included without including all that came before it) --- *not so useful, but including for now for completeness*\n"
   ]
  },
  {
   "cell_type": "code",
   "execution_count": 31,
   "id": "637a2844",
   "metadata": {},
   "outputs": [
    {
     "name": "stderr",
     "output_type": "stream",
     "text": [
      "Warning message in checkConv(attr(opt, \"derivs\"), opt$par, ctrl = control$checkConv, :\n",
      "\"Model failed to converge with max|grad| = 0.0023364 (tol = 0.002, component 1)\"Warning message in checkConv(attr(opt, \"derivs\"), opt$par, ctrl = control$checkConv, :\n",
      "\"Model failed to converge with max|grad| = 0.00205704 (tol = 0.002, component 1)\""
     ]
    },
    {
     "data": {
      "text/html": [
       "<table>\n",
       "<thead><tr><th></th><th scope=col>npar</th><th scope=col>AIC</th><th scope=col>BIC</th><th scope=col>logLik</th><th scope=col>deviance</th><th scope=col>Chisq</th><th scope=col>Df</th><th scope=col>Pr(&gt;Chisq)</th></tr></thead>\n",
       "<tbody>\n",
       "\t<tr><th scope=row>rq1_baseline</th><td>12          </td><td>88330.36    </td><td>88416.98    </td><td>-44153.18   </td><td>88306.36    </td><td>          NA</td><td>NA          </td><td>          NA</td></tr>\n",
       "\t<tr><th scope=row>rq1_WasLocAtt_M</th><td>13          </td><td>88316.96    </td><td>88410.79    </td><td>-44145.48   </td><td>88290.96    </td><td>1.539989e+01</td><td> 1          </td><td>8.699320e-05</td></tr>\n",
       "\t<tr><th scope=row>rq1_WasFeaAtt_M</th><td>14          </td><td>88306.71    </td><td>88407.76    </td><td>-44139.35   </td><td>88278.71    </td><td>1.224844e+01</td><td> 1          </td><td>4.656473e-04</td></tr>\n",
       "\t<tr><th scope=row>rq1_feature_decoded_M</th><td>15          </td><td>88292.44    </td><td>88400.72    </td><td>-44131.22   </td><td>88262.44    </td><td>1.626404e+01</td><td> 1          </td><td>5.509968e-05</td></tr>\n",
       "\t<tr><th scope=row>rq1_all.roi_M</th><td>21          </td><td>88286.10    </td><td>88437.68    </td><td>-44122.05   </td><td>88244.10    </td><td>1.834733e+01</td><td> 6          </td><td>5.420364e-03</td></tr>\n",
       "\t<tr><th scope=row>rq1_WasLocAtt_WasFeaAtt</th><td>22          </td><td>88252.00    </td><td>88410.81    </td><td>-44104.00   </td><td>88208.00    </td><td>3.609159e+01</td><td> 1          </td><td>1.882579e-09</td></tr>\n",
       "\t<tr><th scope=row>rq1_WasLocAtt_feature_decoded</th><td>23          </td><td>88217.72    </td><td>88383.74    </td><td>-44085.86   </td><td>88171.72    </td><td>3.628256e+01</td><td> 1          </td><td>1.706847e-09</td></tr>\n",
       "\t<tr><th scope=row>rq1_WasFeaAtt_feature_decoded</th><td>24          </td><td>88093.24    </td><td>88266.48    </td><td>-44022.62   </td><td>88045.24    </td><td>1.264810e+02</td><td> 1          </td><td>2.412949e-29</td></tr>\n",
       "\t<tr><th scope=row>rq1_WasLocAtt_all.roi</th><td>30          </td><td>88075.84    </td><td>88292.39    </td><td>-44007.92   </td><td>88015.84    </td><td>2.940178e+01</td><td> 6          </td><td>5.105773e-05</td></tr>\n",
       "\t<tr><th scope=row>rq1_WasFeaAtt_all.roi</th><td>36          </td><td>88068.90    </td><td>88328.76    </td><td>-43998.45   </td><td>87996.90    </td><td>1.893451e+01</td><td> 6          </td><td>4.275682e-03</td></tr>\n",
       "\t<tr><th scope=row>rq1_feature_decoded_all.roi</th><td>42          </td><td>88076.41    </td><td>88379.58    </td><td>-43996.20   </td><td>87992.41    </td><td>4.496113e+00</td><td> 6          </td><td>6.098578e-01</td></tr>\n",
       "\t<tr><th scope=row>rq1_WasLocAtt_WasFeaAtt_feature_decoded</th><td>43          </td><td>88073.60    </td><td>88383.98    </td><td>-43993.80   </td><td>87987.60    </td><td>4.812642e+00</td><td> 1          </td><td>2.825170e-02</td></tr>\n",
       "\t<tr><th scope=row>rq1_WasLocAtt_WasFeaAtt_all.roi</th><td>49          </td><td>88064.50    </td><td>88418.20    </td><td>-43983.25   </td><td>87966.50    </td><td>2.109694e+01</td><td> 6          </td><td>1.762467e-03</td></tr>\n",
       "\t<tr><th scope=row>rq1_caliType</th><td>50          </td><td>88065.60    </td><td>88426.51    </td><td>-43982.80   </td><td>87965.60    </td><td>9.031799e-01</td><td> 1          </td><td>3.419305e-01</td></tr>\n",
       "\t<tr><th scope=row>rq1_fbGiven</th><td>51          </td><td>88067.59    </td><td>88435.73    </td><td>-43982.80   </td><td>87965.59    </td><td>8.951167e-04</td><td> 1          </td><td>9.761321e-01</td></tr>\n",
       "\t<tr><th scope=row>rq1_WasLocAtt_feature_decoded_all.roi</th><td>55          </td><td>88074.48    </td><td>88471.49    </td><td>-43982.24   </td><td>87964.48    </td><td>1.110253e+00</td><td> 4          </td><td>8.926420e-01</td></tr>\n",
       "\t<tr><th scope=row>rq1_WasFeaAtt_feature_decoded_all.roi</th><td>61          </td><td>88082.49    </td><td>88522.81    </td><td>-43980.25   </td><td>87960.49    </td><td>3.992917e+00</td><td> 6          </td><td>6.776350e-01</td></tr>\n",
       "\t<tr><th scope=row>rq1_WasLocAtt_WasFeaAtt_feature_decoded_all.roi</th><td>67          </td><td>88092.98    </td><td>88576.61    </td><td>-43979.49   </td><td>87958.98    </td><td>1.506774e+00</td><td> 6          </td><td>9.590433e-01</td></tr>\n",
       "</tbody>\n",
       "</table>\n"
      ],
      "text/latex": [
       "\\begin{tabular}{r|llllllll}\n",
       "  & npar & AIC & BIC & logLik & deviance & Chisq & Df & Pr(>Chisq)\\\\\n",
       "\\hline\n",
       "\trq1\\_baseline & 12           & 88330.36     & 88416.98     & -44153.18    & 88306.36     &           NA & NA           &           NA\\\\\n",
       "\trq1\\_WasLocAtt\\_M & 13           & 88316.96     & 88410.79     & -44145.48    & 88290.96     & 1.539989e+01 &  1           & 8.699320e-05\\\\\n",
       "\trq1\\_WasFeaAtt\\_M & 14           & 88306.71     & 88407.76     & -44139.35    & 88278.71     & 1.224844e+01 &  1           & 4.656473e-04\\\\\n",
       "\trq1\\_feature\\_decoded\\_M & 15           & 88292.44     & 88400.72     & -44131.22    & 88262.44     & 1.626404e+01 &  1           & 5.509968e-05\\\\\n",
       "\trq1\\_all.roi\\_M & 21           & 88286.10     & 88437.68     & -44122.05    & 88244.10     & 1.834733e+01 &  6           & 5.420364e-03\\\\\n",
       "\trq1\\_WasLocAtt\\_WasFeaAtt & 22           & 88252.00     & 88410.81     & -44104.00    & 88208.00     & 3.609159e+01 &  1           & 1.882579e-09\\\\\n",
       "\trq1\\_WasLocAtt\\_feature\\_decoded & 23           & 88217.72     & 88383.74     & -44085.86    & 88171.72     & 3.628256e+01 &  1           & 1.706847e-09\\\\\n",
       "\trq1\\_WasFeaAtt\\_feature\\_decoded & 24           & 88093.24     & 88266.48     & -44022.62    & 88045.24     & 1.264810e+02 &  1           & 2.412949e-29\\\\\n",
       "\trq1\\_WasLocAtt\\_all.roi & 30           & 88075.84     & 88292.39     & -44007.92    & 88015.84     & 2.940178e+01 &  6           & 5.105773e-05\\\\\n",
       "\trq1\\_WasFeaAtt\\_all.roi & 36           & 88068.90     & 88328.76     & -43998.45    & 87996.90     & 1.893451e+01 &  6           & 4.275682e-03\\\\\n",
       "\trq1\\_feature\\_decoded\\_all.roi & 42           & 88076.41     & 88379.58     & -43996.20    & 87992.41     & 4.496113e+00 &  6           & 6.098578e-01\\\\\n",
       "\trq1\\_WasLocAtt\\_WasFeaAtt\\_feature\\_decoded & 43           & 88073.60     & 88383.98     & -43993.80    & 87987.60     & 4.812642e+00 &  1           & 2.825170e-02\\\\\n",
       "\trq1\\_WasLocAtt\\_WasFeaAtt\\_all.roi & 49           & 88064.50     & 88418.20     & -43983.25    & 87966.50     & 2.109694e+01 &  6           & 1.762467e-03\\\\\n",
       "\trq1\\_caliType & 50           & 88065.60     & 88426.51     & -43982.80    & 87965.60     & 9.031799e-01 &  1           & 3.419305e-01\\\\\n",
       "\trq1\\_fbGiven & 51           & 88067.59     & 88435.73     & -43982.80    & 87965.59     & 8.951167e-04 &  1           & 9.761321e-01\\\\\n",
       "\trq1\\_WasLocAtt\\_feature\\_decoded\\_all.roi & 55           & 88074.48     & 88471.49     & -43982.24    & 87964.48     & 1.110253e+00 &  4           & 8.926420e-01\\\\\n",
       "\trq1\\_WasFeaAtt\\_feature\\_decoded\\_all.roi & 61           & 88082.49     & 88522.81     & -43980.25    & 87960.49     & 3.992917e+00 &  6           & 6.776350e-01\\\\\n",
       "\trq1\\_WasLocAtt\\_WasFeaAtt\\_feature\\_decoded\\_all.roi & 67           & 88092.98     & 88576.61     & -43979.49    & 87958.98     & 1.506774e+00 &  6           & 9.590433e-01\\\\\n",
       "\\end{tabular}\n"
      ],
      "text/markdown": [
       "\n",
       "| <!--/--> | npar | AIC | BIC | logLik | deviance | Chisq | Df | Pr(>Chisq) |\n",
       "|---|---|---|---|---|---|---|---|---|\n",
       "| rq1_baseline | 12           | 88330.36     | 88416.98     | -44153.18    | 88306.36     |           NA | NA           |           NA |\n",
       "| rq1_WasLocAtt_M | 13           | 88316.96     | 88410.79     | -44145.48    | 88290.96     | 1.539989e+01 |  1           | 8.699320e-05 |\n",
       "| rq1_WasFeaAtt_M | 14           | 88306.71     | 88407.76     | -44139.35    | 88278.71     | 1.224844e+01 |  1           | 4.656473e-04 |\n",
       "| rq1_feature_decoded_M | 15           | 88292.44     | 88400.72     | -44131.22    | 88262.44     | 1.626404e+01 |  1           | 5.509968e-05 |\n",
       "| rq1_all.roi_M | 21           | 88286.10     | 88437.68     | -44122.05    | 88244.10     | 1.834733e+01 |  6           | 5.420364e-03 |\n",
       "| rq1_WasLocAtt_WasFeaAtt | 22           | 88252.00     | 88410.81     | -44104.00    | 88208.00     | 3.609159e+01 |  1           | 1.882579e-09 |\n",
       "| rq1_WasLocAtt_feature_decoded | 23           | 88217.72     | 88383.74     | -44085.86    | 88171.72     | 3.628256e+01 |  1           | 1.706847e-09 |\n",
       "| rq1_WasFeaAtt_feature_decoded | 24           | 88093.24     | 88266.48     | -44022.62    | 88045.24     | 1.264810e+02 |  1           | 2.412949e-29 |\n",
       "| rq1_WasLocAtt_all.roi | 30           | 88075.84     | 88292.39     | -44007.92    | 88015.84     | 2.940178e+01 |  6           | 5.105773e-05 |\n",
       "| rq1_WasFeaAtt_all.roi | 36           | 88068.90     | 88328.76     | -43998.45    | 87996.90     | 1.893451e+01 |  6           | 4.275682e-03 |\n",
       "| rq1_feature_decoded_all.roi | 42           | 88076.41     | 88379.58     | -43996.20    | 87992.41     | 4.496113e+00 |  6           | 6.098578e-01 |\n",
       "| rq1_WasLocAtt_WasFeaAtt_feature_decoded | 43           | 88073.60     | 88383.98     | -43993.80    | 87987.60     | 4.812642e+00 |  1           | 2.825170e-02 |\n",
       "| rq1_WasLocAtt_WasFeaAtt_all.roi | 49           | 88064.50     | 88418.20     | -43983.25    | 87966.50     | 2.109694e+01 |  6           | 1.762467e-03 |\n",
       "| rq1_caliType | 50           | 88065.60     | 88426.51     | -43982.80    | 87965.60     | 9.031799e-01 |  1           | 3.419305e-01 |\n",
       "| rq1_fbGiven | 51           | 88067.59     | 88435.73     | -43982.80    | 87965.59     | 8.951167e-04 |  1           | 9.761321e-01 |\n",
       "| rq1_WasLocAtt_feature_decoded_all.roi | 55           | 88074.48     | 88471.49     | -43982.24    | 87964.48     | 1.110253e+00 |  4           | 8.926420e-01 |\n",
       "| rq1_WasFeaAtt_feature_decoded_all.roi | 61           | 88082.49     | 88522.81     | -43980.25    | 87960.49     | 3.992917e+00 |  6           | 6.776350e-01 |\n",
       "| rq1_WasLocAtt_WasFeaAtt_feature_decoded_all.roi | 67           | 88092.98     | 88576.61     | -43979.49    | 87958.98     | 1.506774e+00 |  6           | 9.590433e-01 |\n",
       "\n"
      ],
      "text/plain": [
       "                                                npar AIC      BIC     \n",
       "rq1_baseline                                    12   88330.36 88416.98\n",
       "rq1_WasLocAtt_M                                 13   88316.96 88410.79\n",
       "rq1_WasFeaAtt_M                                 14   88306.71 88407.76\n",
       "rq1_feature_decoded_M                           15   88292.44 88400.72\n",
       "rq1_all.roi_M                                   21   88286.10 88437.68\n",
       "rq1_WasLocAtt_WasFeaAtt                         22   88252.00 88410.81\n",
       "rq1_WasLocAtt_feature_decoded                   23   88217.72 88383.74\n",
       "rq1_WasFeaAtt_feature_decoded                   24   88093.24 88266.48\n",
       "rq1_WasLocAtt_all.roi                           30   88075.84 88292.39\n",
       "rq1_WasFeaAtt_all.roi                           36   88068.90 88328.76\n",
       "rq1_feature_decoded_all.roi                     42   88076.41 88379.58\n",
       "rq1_WasLocAtt_WasFeaAtt_feature_decoded         43   88073.60 88383.98\n",
       "rq1_WasLocAtt_WasFeaAtt_all.roi                 49   88064.50 88418.20\n",
       "rq1_caliType                                    50   88065.60 88426.51\n",
       "rq1_fbGiven                                     51   88067.59 88435.73\n",
       "rq1_WasLocAtt_feature_decoded_all.roi           55   88074.48 88471.49\n",
       "rq1_WasFeaAtt_feature_decoded_all.roi           61   88082.49 88522.81\n",
       "rq1_WasLocAtt_WasFeaAtt_feature_decoded_all.roi 67   88092.98 88576.61\n",
       "                                                logLik    deviance Chisq       \n",
       "rq1_baseline                                    -44153.18 88306.36           NA\n",
       "rq1_WasLocAtt_M                                 -44145.48 88290.96 1.539989e+01\n",
       "rq1_WasFeaAtt_M                                 -44139.35 88278.71 1.224844e+01\n",
       "rq1_feature_decoded_M                           -44131.22 88262.44 1.626404e+01\n",
       "rq1_all.roi_M                                   -44122.05 88244.10 1.834733e+01\n",
       "rq1_WasLocAtt_WasFeaAtt                         -44104.00 88208.00 3.609159e+01\n",
       "rq1_WasLocAtt_feature_decoded                   -44085.86 88171.72 3.628256e+01\n",
       "rq1_WasFeaAtt_feature_decoded                   -44022.62 88045.24 1.264810e+02\n",
       "rq1_WasLocAtt_all.roi                           -44007.92 88015.84 2.940178e+01\n",
       "rq1_WasFeaAtt_all.roi                           -43998.45 87996.90 1.893451e+01\n",
       "rq1_feature_decoded_all.roi                     -43996.20 87992.41 4.496113e+00\n",
       "rq1_WasLocAtt_WasFeaAtt_feature_decoded         -43993.80 87987.60 4.812642e+00\n",
       "rq1_WasLocAtt_WasFeaAtt_all.roi                 -43983.25 87966.50 2.109694e+01\n",
       "rq1_caliType                                    -43982.80 87965.60 9.031799e-01\n",
       "rq1_fbGiven                                     -43982.80 87965.59 8.951167e-04\n",
       "rq1_WasLocAtt_feature_decoded_all.roi           -43982.24 87964.48 1.110253e+00\n",
       "rq1_WasFeaAtt_feature_decoded_all.roi           -43980.25 87960.49 3.992917e+00\n",
       "rq1_WasLocAtt_WasFeaAtt_feature_decoded_all.roi -43979.49 87958.98 1.506774e+00\n",
       "                                                Df Pr(>Chisq)  \n",
       "rq1_baseline                                    NA           NA\n",
       "rq1_WasLocAtt_M                                  1 8.699320e-05\n",
       "rq1_WasFeaAtt_M                                  1 4.656473e-04\n",
       "rq1_feature_decoded_M                            1 5.509968e-05\n",
       "rq1_all.roi_M                                    6 5.420364e-03\n",
       "rq1_WasLocAtt_WasFeaAtt                          1 1.882579e-09\n",
       "rq1_WasLocAtt_feature_decoded                    1 1.706847e-09\n",
       "rq1_WasFeaAtt_feature_decoded                    1 2.412949e-29\n",
       "rq1_WasLocAtt_all.roi                            6 5.105773e-05\n",
       "rq1_WasFeaAtt_all.roi                            6 4.275682e-03\n",
       "rq1_feature_decoded_all.roi                      6 6.098578e-01\n",
       "rq1_WasLocAtt_WasFeaAtt_feature_decoded          1 2.825170e-02\n",
       "rq1_WasLocAtt_WasFeaAtt_all.roi                  6 1.762467e-03\n",
       "rq1_caliType                                     1 3.419305e-01\n",
       "rq1_fbGiven                                      1 9.761321e-01\n",
       "rq1_WasLocAtt_feature_decoded_all.roi            4 8.926420e-01\n",
       "rq1_WasFeaAtt_feature_decoded_all.roi            6 6.776350e-01\n",
       "rq1_WasLocAtt_WasFeaAtt_feature_decoded_all.roi  6 9.590433e-01"
      ]
     },
     "metadata": {},
     "output_type": "display_data"
    }
   ],
   "source": [
    "# start with no predictors but intercept!!\n",
    "rq1_baseline <- lmer(decAcc ~ 1 + (WasLocAtt * WasFeaAtt | Sub), data = xdata, REML=FALSE,\n",
    "                     lmerControl(optimizer ='optimx',\n",
    "                                 optCtrl=list(method='nlminb')))\n",
    "\n",
    "#main effects\n",
    "rq1_WasLocAtt_M <- update(rq1_baseline, .~. + WasLocAtt)  \n",
    "rq1_WasFeaAtt_M <- update(rq1_WasLocAtt_M, .~. + WasFeaAtt)   \n",
    "rq1_feature_decoded_M <- update(rq1_WasFeaAtt_M, .~. + feature_decoded) \n",
    "rq1_all.roi_M <- update(rq1_feature_decoded_M, .~. + all.roi) # should give same res as likelihood test\n",
    "\n",
    "#second-order effects\n",
    "rq1_WasLocAtt_WasFeaAtt <- update(rq1_all.roi_M, .~. + WasLocAtt:WasFeaAtt) \n",
    "rq1_WasLocAtt_feature_decoded <- update(rq1_WasLocAtt_WasFeaAtt, .~. + WasLocAtt:feature_decoded) \n",
    "rq1_WasFeaAtt_feature_decoded <- update(rq1_WasLocAtt_feature_decoded, .~. + WasFeaAtt:feature_decoded) \n",
    "rq1_WasLocAtt_all.roi <- update(rq1_WasFeaAtt_feature_decoded, .~. + WasLocAtt:all.roi) \n",
    "rq1_WasFeaAtt_all.roi <- update(rq1_WasLocAtt_all.roi, .~. + WasFeaAtt:all.roi) \n",
    "rq1_feature_decoded_all.roi <- update(rq1_WasFeaAtt_all.roi, .~. + feature_decoded:all.roi) \n",
    "\n",
    "#third-order effects\n",
    "rq1_WasLocAtt_WasFeaAtt_feature_decoded <- update(rq1_feature_decoded_all.roi, .~. + \n",
    "                                                    WasLocAtt:WasFeaAtt:feature_decoded) \n",
    "rq1_WasLocAtt_WasFeaAtt_all.roi <- update(rq1_WasLocAtt_WasFeaAtt_feature_decoded, .~. + \n",
    "                                            WasLocAtt:WasFeaAtt:all.roi) \n",
    "rq1_WasLocAtt_feature_decoded_all.roi <- update(rq1_WasLocAtt_WasFeaAtt_all.roi, .~. + \n",
    "                                            WasLocAtt:feature_decoded:all.roi) \n",
    "rq1_WasFeaAtt_feature_decoded_all.roi <- update(rq1_WasLocAtt_feature_decoded_all.roi, .~. + \n",
    "                                            WasFeaAtt:feature_decoded:all.roi) \n",
    "\n",
    "#fourth-order effects\n",
    "rq1_WasLocAtt_WasFeaAtt_feature_decoded_all.roi <- update(rq1_WasFeaAtt_feature_decoded_all.roi, .~. + \n",
    "                                            WasLocAtt:WasFeaAtt:feature_decoded:all.roi) \n",
    "\n",
    "\n",
    "\n",
    "rq1_caliType<- update(rq1_WasLocAtt_WasFeaAtt_all.roi, .~. + CalibrationType) \n",
    "rq1_fbGiven<- update(rq1_caliType, .~. + feedbackGiven) \n",
    "\n",
    "\n",
    "#now test models...\n",
    "anova(rq1_baseline, rq1_WasLocAtt_M, rq1_WasFeaAtt_M, rq1_feature_decoded_M, rq1_all.roi_M,\n",
    "      rq1_WasLocAtt_WasFeaAtt, rq1_WasLocAtt_feature_decoded, rq1_WasFeaAtt_feature_decoded,\n",
    "      rq1_WasLocAtt_all.roi, rq1_WasFeaAtt_all.roi, rq1_feature_decoded_all.roi,\n",
    "      rq1_WasLocAtt_WasFeaAtt_feature_decoded, rq1_WasLocAtt_WasFeaAtt_all.roi, \n",
    "      rq1_WasLocAtt_feature_decoded_all.roi, rq1_WasFeaAtt_feature_decoded_all.roi,\n",
    "      rq1_WasLocAtt_WasFeaAtt_feature_decoded_all.roi,\n",
    "      rq1_caliType, rq1_fbGiven)\n",
    "\n",
    "# note - does give message here that some issues with convergence with above"
   ]
  },
  {
   "cell_type": "markdown",
   "id": "5322d175",
   "metadata": {},
   "source": [
    "--\n",
    "\n",
    "Based on this, could possibly exclude:\n",
    "- feature_decoded_all.roi \n",
    "- WasLocAtt_feature_decoded_all.roi\n",
    "- WasFeaAtt_feature_decoded_all.roi\n",
    "- WasLocAtt_WasFeaAtt_feature_decoded_all.roi\n",
    "- caliType\n",
    "- fbGiven\n",
    "\n",
    "One can see from the above that again, the addition of calibration type and feedback given do not seem to add much to the models.\n",
    "\n",
    "(Note - these are the SAME factors indicated for possible exclusion with the step function)"
   ]
  },
  {
   "cell_type": "code",
   "execution_count": 32,
   "id": "485b8480",
   "metadata": {},
   "outputs": [],
   "source": [
    "# From the above, our final model is...\n",
    "\n",
    "lmer_RQ1_final <- lmer(decAcc ~ WasLocAtt + WasFeaAtt + feature_decoded + all.roi + \n",
    "                       (WasLocAtt * WasFeaAtt | Sub) + \n",
    "                       WasLocAtt:WasFeaAtt + WasLocAtt:feature_decoded + WasFeaAtt:feature_decoded + \n",
    "                       WasLocAtt:all.roi + WasFeaAtt:all.roi + \n",
    "                       WasLocAtt:WasFeaAtt:feature_decoded + WasLocAtt:WasFeaAtt:all.roi,\n",
    "                       data = xdata, REML = FALSE,\n",
    "                         lmerControl(optimizer ='optimx',\n",
    "                                     optCtrl=list(method='nlminb')))\n"
   ]
  },
  {
   "cell_type": "code",
   "execution_count": 33,
   "id": "b973b31c",
   "metadata": {},
   "outputs": [
    {
     "name": "stderr",
     "output_type": "stream",
     "text": [
      "\n",
      "Correlation matrix not shown by default, as p = 32 > 12.\n",
      "Use print(obj, correlation=TRUE)  or\n",
      "    vcov(obj)        if you need it\n",
      "\n"
     ]
    },
    {
     "data": {
      "text/plain": [
       "Linear mixed model fit by maximum likelihood . t-tests use Satterthwaite's\n",
       "  method [lmerModLmerTest]\n",
       "Formula: decAcc ~ WasLocAtt + WasFeaAtt + feature_decoded + all.roi +  \n",
       "    (WasLocAtt * WasFeaAtt | Sub) + WasLocAtt:WasFeaAtt + WasLocAtt:feature_decoded +  \n",
       "    WasFeaAtt:feature_decoded + WasLocAtt:all.roi + WasFeaAtt:all.roi +  \n",
       "    WasLocAtt:WasFeaAtt:feature_decoded + WasLocAtt:WasFeaAtt:all.roi\n",
       "   Data: xdata\n",
       "Control: lmerControl(optimizer = \"optimx\", optCtrl = list(method = \"nlminb\"))\n",
       "\n",
       "     AIC      BIC   logLik deviance df.resid \n",
       " 88057.0  88367.4 -43985.5  87971.0    10037 \n",
       "\n",
       "Scaled residuals: \n",
       "    Min      1Q  Median      3Q     Max \n",
       "-4.0624 -0.6907  0.0159  0.7180  2.8661 \n",
       "\n",
       "Random effects:\n",
       " Groups   Name                  Variance Std.Dev. Corr             \n",
       " Sub      (Intercept)            31.39    5.603                    \n",
       "          WasLocAtt1             63.44    7.965   -0.77            \n",
       "          WasFeaAtt1             75.18    8.670   -0.78  0.51      \n",
       "          WasLocAtt1:WasFeaAtt1 143.79   11.991    0.63 -0.80 -0.61\n",
       " Residual                       352.21   18.767                    \n",
       "Number of obs: 10080, groups:  Sub, 30\n",
       "\n",
       "Fixed effects:\n",
       "                                        Estimate Std. Error        df t value\n",
       "(Intercept)                              47.3636     1.4712   99.7247  32.194\n",
       "WasLocAtt1                                1.9767     2.0859   98.9195   0.948\n",
       "WasFeaAtt1                                4.6280     2.1776   86.8466   2.125\n",
       "feature_decodedS                          4.1617     0.7477 9959.9998   5.566\n",
       "all.roiAIFO                               1.0417     1.3988 9959.9997   0.745\n",
       "all.roiIFJ                                1.1458     1.3988 9959.9997   0.819\n",
       "all.roiaIFS                               2.2222     1.3988 9959.9997   1.589\n",
       "all.roipIFS                               2.1354     1.3988 9959.9997   1.527\n",
       "all.roiIPS                                1.4757     1.3988 9959.9997   1.055\n",
       "all.roiPM                                 0.5729     1.3988 9959.9997   0.410\n",
       "WasLocAtt1:WasFeaAtt1                    22.2321     3.0439   89.8052   7.304\n",
       "WasLocAtt1:feature_decodedS              -2.9117     1.0574 9959.9998  -2.754\n",
       "WasFeaAtt1:feature_decodedS              -6.8254     1.0574 9959.9998  -6.455\n",
       "WasLocAtt1:all.roiAIFO                   -1.3194     1.9782 9959.9997  -0.667\n",
       "WasLocAtt1:all.roiIFJ                    -0.5903     1.9782 9959.9997  -0.298\n",
       "WasLocAtt1:all.roiaIFS                   -1.5972     1.9782 9959.9997  -0.807\n",
       "WasLocAtt1:all.roipIFS                   -0.5903     1.9782 9959.9997  -0.298\n",
       "WasLocAtt1:all.roiIPS                    -2.1354     1.9782 9959.9997  -1.079\n",
       "WasLocAtt1:all.roiPM                     -1.2153     1.9782 9959.9997  -0.614\n",
       "WasFeaAtt1:all.roiAIFO                   -1.9792     1.9782 9959.9997  -1.000\n",
       "WasFeaAtt1:all.roiIFJ                    -0.9028     1.9782 9959.9997  -0.456\n",
       "WasFeaAtt1:all.roiaIFS                   -1.9965     1.9782 9959.9997  -1.009\n",
       "WasFeaAtt1:all.roipIFS                   -1.8229     1.9782 9959.9997  -0.921\n",
       "WasFeaAtt1:all.roiIPS                     0.7639     1.9782 9959.9997   0.386\n",
       "WasFeaAtt1:all.roiPM                      1.4931     1.9782 9959.9997   0.755\n",
       "WasLocAtt1:WasFeaAtt1:feature_decodedS   -3.2837     1.4954 9959.9998  -2.196\n",
       "WasLocAtt1:WasFeaAtt1:all.roiAIFO         0.7812     2.7977 9959.9997   0.279\n",
       "WasLocAtt1:WasFeaAtt1:all.roiIFJ          4.0104     2.7977 9959.9997   1.433\n",
       "WasLocAtt1:WasFeaAtt1:all.roiaIFS        -3.4722     2.7977 9959.9997  -1.241\n",
       "WasLocAtt1:WasFeaAtt1:all.roipIFS        -1.1979     2.7977 9959.9997  -0.428\n",
       "WasLocAtt1:WasFeaAtt1:all.roiIPS         -0.9375     2.7977 9959.9997  -0.335\n",
       "WasLocAtt1:WasFeaAtt1:all.roiPM          -7.8993     2.7977 9959.9997  -2.824\n",
       "                                       Pr(>|t|)    \n",
       "(Intercept)                             < 2e-16 ***\n",
       "WasLocAtt1                              0.34561    \n",
       "WasFeaAtt1                              0.03641 *  \n",
       "feature_decodedS                       2.67e-08 ***\n",
       "all.roiAIFO                             0.45649    \n",
       "all.roiIFJ                              0.41273    \n",
       "all.roiaIFS                             0.11218    \n",
       "all.roipIFS                             0.12690    \n",
       "all.roiIPS                              0.29147    \n",
       "all.roiPM                               0.68213    \n",
       "WasLocAtt1:WasFeaAtt1                  1.09e-10 ***\n",
       "WasLocAtt1:feature_decodedS             0.00591 ** \n",
       "WasFeaAtt1:feature_decodedS            1.13e-10 ***\n",
       "WasLocAtt1:all.roiAIFO                  0.50480    \n",
       "WasLocAtt1:all.roiIFJ                   0.76542    \n",
       "WasLocAtt1:all.roiaIFS                  0.41946    \n",
       "WasLocAtt1:all.roipIFS                  0.76542    \n",
       "WasLocAtt1:all.roiIPS                   0.28041    \n",
       "WasLocAtt1:all.roiPM                    0.53902    \n",
       "WasFeaAtt1:all.roiAIFO                  0.31711    \n",
       "WasFeaAtt1:all.roiIFJ                   0.64815    \n",
       "WasFeaAtt1:all.roiaIFS                  0.31288    \n",
       "WasFeaAtt1:all.roipIFS                  0.35682    \n",
       "WasFeaAtt1:all.roiIPS                   0.69940    \n",
       "WasFeaAtt1:all.roiPM                    0.45042    \n",
       "WasLocAtt1:WasFeaAtt1:feature_decodedS  0.02812 *  \n",
       "WasLocAtt1:WasFeaAtt1:all.roiAIFO       0.78006    \n",
       "WasLocAtt1:WasFeaAtt1:all.roiIFJ        0.15175    \n",
       "WasLocAtt1:WasFeaAtt1:all.roiaIFS       0.21459    \n",
       "WasLocAtt1:WasFeaAtt1:all.roipIFS       0.66853    \n",
       "WasLocAtt1:WasFeaAtt1:all.roiIPS        0.73756    \n",
       "WasLocAtt1:WasFeaAtt1:all.roiPM         0.00476 ** \n",
       "---\n",
       "Signif. codes:  0 '***' 0.001 '**' 0.01 '*' 0.05 '.' 0.1 ' ' 1"
      ]
     },
     "metadata": {},
     "output_type": "display_data"
    }
   ],
   "source": [
    "# Can look at the main results of the model here:\n",
    "\n",
    "summary(lmer_RQ1_final)"
   ]
  },
  {
   "cell_type": "markdown",
   "id": "041db0a4",
   "metadata": {},
   "source": [
    "# Testing for main effects and interactions\n",
    "\n",
    "I was recommended a few different ways to do this. The first is Romy's way:\n",
    "\n",
    "#### Romy's method of testing main effects... F-test\n",
    "\n",
    "This uses the contest function (from lmerTest). You specify which fixed factor effects you wish to look at here (see fixef() and its use with ROI below):"
   ]
  },
  {
   "cell_type": "code",
   "execution_count": 34,
   "id": "b0a1fe2d",
   "metadata": {},
   "outputs": [
    {
     "data": {
      "text/html": [
       "<table>\n",
       "<thead><tr><th scope=col>Sum Sq</th><th scope=col>Mean Sq</th><th scope=col>NumDF</th><th scope=col>DenDF</th><th scope=col>F value</th><th scope=col>Pr(&gt;F)</th></tr></thead>\n",
       "<tbody>\n",
       "\t<tr><td>1386.657 </td><td>231.1095 </td><td>6        </td><td>9960     </td><td>0.6561664</td><td>0.6852004</td></tr>\n",
       "</tbody>\n",
       "</table>\n"
      ],
      "text/latex": [
       "\\begin{tabular}{r|llllll}\n",
       " Sum Sq & Mean Sq & NumDF & DenDF & F value & Pr(>F)\\\\\n",
       "\\hline\n",
       "\t 1386.657  & 231.1095  & 6         & 9960      & 0.6561664 & 0.6852004\\\\\n",
       "\\end{tabular}\n"
      ],
      "text/markdown": [
       "\n",
       "| Sum Sq | Mean Sq | NumDF | DenDF | F value | Pr(>F) |\n",
       "|---|---|---|---|---|---|\n",
       "| 1386.657  | 231.1095  | 6         | 9960      | 0.6561664 | 0.6852004 |\n",
       "\n"
      ],
      "text/plain": [
       "  Sum Sq   Mean Sq  NumDF DenDF F value   Pr(>F)   \n",
       "1 1386.657 231.1095 6     9960  0.6561664 0.6852004"
      ]
     },
     "metadata": {},
     "output_type": "display_data"
    }
   ],
   "source": [
    "# An F-test of the main effect of ROI\n",
    "a <- length(fixef(lmer_RQ1_final))\n",
    "\n",
    "contest(lmer_RQ1_final, L=diag(a)[5:10, ]) # note - numbers refer to order in fixef of model\n",
    "#n.s."
   ]
  },
  {
   "cell_type": "markdown",
   "id": "dc0d2502",
   "metadata": {},
   "source": [
    "I had read, however, that this may not be the best way to test for lower order effects (need to find reference to recall exactly why...). It does seem to give an incorrect result (i.e., other tests suggest there IS a main effect for ROI). I think this is because of how SS is handled when running an F-test in this way. This method does give the same result though for the higher-order interactions.\n",
    "\n",
    "---\n",
    "\n",
    "Another method mentioned to me (by Yudong Chen) is the likelihood method. Shown below for the three way interaction between WasLocAtt:WasFeaAtt:all.roi\n"
   ]
  },
  {
   "cell_type": "code",
   "execution_count": 35,
   "id": "3693695e",
   "metadata": {},
   "outputs": [
    {
     "data": {
      "text/html": [
       "<table>\n",
       "<thead><tr><th></th><th scope=col>npar</th><th scope=col>AIC</th><th scope=col>BIC</th><th scope=col>logLik</th><th scope=col>deviance</th><th scope=col>Chisq</th><th scope=col>Df</th><th scope=col>Pr(&gt;Chisq)</th></tr></thead>\n",
       "<tbody>\n",
       "\t<tr><th scope=row>RQ1_drop1</th><td>37        </td><td>88066.09  </td><td>88333.17  </td><td>-43996.05 </td><td>87992.09  </td><td>     NA   </td><td>NA        </td><td>        NA</td></tr>\n",
       "\t<tr><th scope=row>lmer_RQ1_final</th><td>43        </td><td>88057.01  </td><td>88367.39  </td><td>-43985.50 </td><td>87971.01  </td><td>21.0874   </td><td> 6        </td><td>0.00176944</td></tr>\n",
       "</tbody>\n",
       "</table>\n"
      ],
      "text/latex": [
       "\\begin{tabular}{r|llllllll}\n",
       "  & npar & AIC & BIC & logLik & deviance & Chisq & Df & Pr(>Chisq)\\\\\n",
       "\\hline\n",
       "\tRQ1\\_drop1 & 37         & 88066.09   & 88333.17   & -43996.05  & 87992.09   &      NA    & NA         &         NA\\\\\n",
       "\tlmer\\_RQ1\\_final & 43         & 88057.01   & 88367.39   & -43985.50  & 87971.01   & 21.0874    &  6         & 0.00176944\\\\\n",
       "\\end{tabular}\n"
      ],
      "text/markdown": [
       "\n",
       "| <!--/--> | npar | AIC | BIC | logLik | deviance | Chisq | Df | Pr(>Chisq) |\n",
       "|---|---|---|---|---|---|---|---|---|\n",
       "| RQ1_drop1 | 37         | 88066.09   | 88333.17   | -43996.05  | 87992.09   |      NA    | NA         |         NA |\n",
       "| lmer_RQ1_final | 43         | 88057.01   | 88367.39   | -43985.50  | 87971.01   | 21.0874    |  6         | 0.00176944 |\n",
       "\n"
      ],
      "text/plain": [
       "               npar AIC      BIC      logLik    deviance Chisq   Df Pr(>Chisq)\n",
       "RQ1_drop1      37   88066.09 88333.17 -43996.05 87992.09      NA NA         NA\n",
       "lmer_RQ1_final 43   88057.01 88367.39 -43985.50 87971.01 21.0874  6 0.00176944"
      ]
     },
     "metadata": {},
     "output_type": "display_data"
    }
   ],
   "source": [
    "# For the likelihood method approach, you take your model and drop the terms you wish to exclude to see its effect on the result:\n",
    "\n",
    "# here, dropping WasLocAtt:WasFeaAtt:all.roi\n",
    "\n",
    "RQ1_drop1 <- lmer(decAcc ~ WasLocAtt + WasFeaAtt + feature_decoded + all.roi + \n",
    "                       (WasLocAtt * WasFeaAtt | Sub) + \n",
    "                       WasLocAtt:WasFeaAtt + WasLocAtt:feature_decoded + WasFeaAtt:feature_decoded + \n",
    "                       WasLocAtt:all.roi + WasFeaAtt:all.roi + \n",
    "                       WasLocAtt:WasFeaAtt:feature_decoded,\n",
    "                       data = xdata, REML = FALSE,\n",
    "                         lmerControl(optimizer ='optimx',\n",
    "                                     optCtrl=list(method='nlminb')))\n",
    "\n",
    "anova(RQ1_drop1, lmer_RQ1_final, test=\"Chisq\") "
   ]
  },
  {
   "cell_type": "code",
   "execution_count": 55,
   "id": "43dee14f",
   "metadata": {},
   "outputs": [
    {
     "data": {
      "text/html": [
       "<table>\n",
       "<thead><tr><th scope=col>Sum Sq</th><th scope=col>Mean Sq</th><th scope=col>NumDF</th><th scope=col>DenDF</th><th scope=col>F value</th><th scope=col>Pr(&gt;F)</th></tr></thead>\n",
       "<tbody>\n",
       "\t<tr><td>7435.097   </td><td>1239.183   </td><td>6          </td><td>9960       </td><td>3.51829    </td><td>0.001766342</td></tr>\n",
       "</tbody>\n",
       "</table>\n"
      ],
      "text/latex": [
       "\\begin{tabular}{r|llllll}\n",
       " Sum Sq & Mean Sq & NumDF & DenDF & F value & Pr(>F)\\\\\n",
       "\\hline\n",
       "\t 7435.097    & 1239.183    & 6           & 9960        & 3.51829     & 0.001766342\\\\\n",
       "\\end{tabular}\n"
      ],
      "text/markdown": [
       "\n",
       "| Sum Sq | Mean Sq | NumDF | DenDF | F value | Pr(>F) |\n",
       "|---|---|---|---|---|---|\n",
       "| 7435.097    | 1239.183    | 6           | 9960        | 3.51829     | 0.001766342 |\n",
       "\n"
      ],
      "text/plain": [
       "  Sum Sq   Mean Sq  NumDF DenDF F value Pr(>F)     \n",
       "1 7435.097 1239.183 6     9960  3.51829 0.001766342"
      ]
     },
     "metadata": {},
     "output_type": "display_data"
    }
   ],
   "source": [
    "# this is significant!\n",
    "\n",
    "# Can also compare this to the F-test method:\n",
    "contest(lmer_RQ1_final, L=diag(a)[27:32, ]) \n",
    "# gives a very similar result\n"
   ]
  },
  {
   "cell_type": "code",
   "execution_count": 36,
   "id": "5f346e3e",
   "metadata": {},
   "outputs": [
    {
     "data": {
      "text/html": [
       "<table>\n",
       "<thead><tr><th></th><th scope=col>Sum Sq</th><th scope=col>Mean Sq</th><th scope=col>NumDF</th><th scope=col>DenDF</th><th scope=col>F value</th><th scope=col>Pr(&gt;F)</th></tr></thead>\n",
       "<tbody>\n",
       "\t<tr><th scope=row>WasLocAtt</th><td>32840.313   </td><td>32840.313   </td><td>1           </td><td>  30.00040  </td><td> 93.240273  </td><td>1.026921e-10</td></tr>\n",
       "\t<tr><th scope=row>WasFeaAtt</th><td>21529.164   </td><td>21529.164   </td><td>1           </td><td>  29.99423  </td><td> 61.125640  </td><td>1.006516e-08</td></tr>\n",
       "\t<tr><th scope=row>feature_decoded</th><td> 5881.944   </td><td> 5881.944   </td><td>1           </td><td>9959.99984  </td><td> 16.700027  </td><td>4.412379e-05</td></tr>\n",
       "\t<tr><th scope=row>all.roi</th><td> 6623.853   </td><td> 1103.975   </td><td>6           </td><td>9959.99984  </td><td>  3.134409  </td><td>4.528817e-03</td></tr>\n",
       "\t<tr><th scope=row>WasLocAtt:WasFeaAtt</th><td>24628.030   </td><td>24628.030   </td><td>1           </td><td>  30.01262  </td><td> 69.923944  </td><td>2.465840e-09</td></tr>\n",
       "\t<tr><th scope=row>WasLocAtt:feature_decoded</th><td>13063.058   </td><td>13063.058   </td><td>1           </td><td>9959.99985  </td><td> 37.088657  </td><td>1.170488e-09</td></tr>\n",
       "\t<tr><th scope=row>WasFeaAtt:feature_decoded</th><td>45167.550   </td><td>45167.550   </td><td>1           </td><td>9959.99983  </td><td>128.239785  </td><td>1.507319e-29</td></tr>\n",
       "\t<tr><th scope=row>WasLocAtt:all.roi</th><td>10417.736   </td><td> 1736.289   </td><td>6           </td><td>9959.99984  </td><td>  4.929676  </td><td>4.806379e-05</td></tr>\n",
       "\t<tr><th scope=row>WasFeaAtt:all.roi</th><td> 6692.677   </td><td> 1115.446   </td><td>6           </td><td>9959.99983  </td><td>  3.166977  </td><td>4.184679e-03</td></tr>\n",
       "\t<tr><th scope=row>WasLocAtt:WasFeaAtt:feature_decoded</th><td> 1698.304   </td><td> 1698.304   </td><td>1           </td><td>9959.99982  </td><td>  4.821828  </td><td>2.812450e-02</td></tr>\n",
       "\t<tr><th scope=row>WasLocAtt:WasFeaAtt:all.roi</th><td> 7435.097   </td><td> 1239.183   </td><td>6           </td><td>9959.99980  </td><td>  3.518290  </td><td>1.766342e-03</td></tr>\n",
       "</tbody>\n",
       "</table>\n"
      ],
      "text/latex": [
       "\\begin{tabular}{r|llllll}\n",
       "  & Sum Sq & Mean Sq & NumDF & DenDF & F value & Pr(>F)\\\\\n",
       "\\hline\n",
       "\tWasLocAtt & 32840.313    & 32840.313    & 1            &   30.00040   &  93.240273   & 1.026921e-10\\\\\n",
       "\tWasFeaAtt & 21529.164    & 21529.164    & 1            &   29.99423   &  61.125640   & 1.006516e-08\\\\\n",
       "\tfeature\\_decoded &  5881.944    &  5881.944    & 1            & 9959.99984   &  16.700027   & 4.412379e-05\\\\\n",
       "\tall.roi &  6623.853    &  1103.975    & 6            & 9959.99984   &   3.134409   & 4.528817e-03\\\\\n",
       "\tWasLocAtt:WasFeaAtt & 24628.030    & 24628.030    & 1            &   30.01262   &  69.923944   & 2.465840e-09\\\\\n",
       "\tWasLocAtt:feature\\_decoded & 13063.058    & 13063.058    & 1            & 9959.99985   &  37.088657   & 1.170488e-09\\\\\n",
       "\tWasFeaAtt:feature\\_decoded & 45167.550    & 45167.550    & 1            & 9959.99983   & 128.239785   & 1.507319e-29\\\\\n",
       "\tWasLocAtt:all.roi & 10417.736    &  1736.289    & 6            & 9959.99984   &   4.929676   & 4.806379e-05\\\\\n",
       "\tWasFeaAtt:all.roi &  6692.677    &  1115.446    & 6            & 9959.99983   &   3.166977   & 4.184679e-03\\\\\n",
       "\tWasLocAtt:WasFeaAtt:feature\\_decoded &  1698.304    &  1698.304    & 1            & 9959.99982   &   4.821828   & 2.812450e-02\\\\\n",
       "\tWasLocAtt:WasFeaAtt:all.roi &  7435.097    &  1239.183    & 6            & 9959.99980   &   3.518290   & 1.766342e-03\\\\\n",
       "\\end{tabular}\n"
      ],
      "text/markdown": [
       "\n",
       "| <!--/--> | Sum Sq | Mean Sq | NumDF | DenDF | F value | Pr(>F) |\n",
       "|---|---|---|---|---|---|---|\n",
       "| WasLocAtt | 32840.313    | 32840.313    | 1            |   30.00040   |  93.240273   | 1.026921e-10 |\n",
       "| WasFeaAtt | 21529.164    | 21529.164    | 1            |   29.99423   |  61.125640   | 1.006516e-08 |\n",
       "| feature_decoded |  5881.944    |  5881.944    | 1            | 9959.99984   |  16.700027   | 4.412379e-05 |\n",
       "| all.roi |  6623.853    |  1103.975    | 6            | 9959.99984   |   3.134409   | 4.528817e-03 |\n",
       "| WasLocAtt:WasFeaAtt | 24628.030    | 24628.030    | 1            |   30.01262   |  69.923944   | 2.465840e-09 |\n",
       "| WasLocAtt:feature_decoded | 13063.058    | 13063.058    | 1            | 9959.99985   |  37.088657   | 1.170488e-09 |\n",
       "| WasFeaAtt:feature_decoded | 45167.550    | 45167.550    | 1            | 9959.99983   | 128.239785   | 1.507319e-29 |\n",
       "| WasLocAtt:all.roi | 10417.736    |  1736.289    | 6            | 9959.99984   |   4.929676   | 4.806379e-05 |\n",
       "| WasFeaAtt:all.roi |  6692.677    |  1115.446    | 6            | 9959.99983   |   3.166977   | 4.184679e-03 |\n",
       "| WasLocAtt:WasFeaAtt:feature_decoded |  1698.304    |  1698.304    | 1            | 9959.99982   |   4.821828   | 2.812450e-02 |\n",
       "| WasLocAtt:WasFeaAtt:all.roi |  7435.097    |  1239.183    | 6            | 9959.99980   |   3.518290   | 1.766342e-03 |\n",
       "\n"
      ],
      "text/plain": [
       "                                    Sum Sq    Mean Sq   NumDF DenDF     \n",
       "WasLocAtt                           32840.313 32840.313 1       30.00040\n",
       "WasFeaAtt                           21529.164 21529.164 1       29.99423\n",
       "feature_decoded                      5881.944  5881.944 1     9959.99984\n",
       "all.roi                              6623.853  1103.975 6     9959.99984\n",
       "WasLocAtt:WasFeaAtt                 24628.030 24628.030 1       30.01262\n",
       "WasLocAtt:feature_decoded           13063.058 13063.058 1     9959.99985\n",
       "WasFeaAtt:feature_decoded           45167.550 45167.550 1     9959.99983\n",
       "WasLocAtt:all.roi                   10417.736  1736.289 6     9959.99984\n",
       "WasFeaAtt:all.roi                    6692.677  1115.446 6     9959.99983\n",
       "WasLocAtt:WasFeaAtt:feature_decoded  1698.304  1698.304 1     9959.99982\n",
       "WasLocAtt:WasFeaAtt:all.roi          7435.097  1239.183 6     9959.99980\n",
       "                                    F value    Pr(>F)      \n",
       "WasLocAtt                            93.240273 1.026921e-10\n",
       "WasFeaAtt                            61.125640 1.006516e-08\n",
       "feature_decoded                      16.700027 4.412379e-05\n",
       "all.roi                               3.134409 4.528817e-03\n",
       "WasLocAtt:WasFeaAtt                  69.923944 2.465840e-09\n",
       "WasLocAtt:feature_decoded            37.088657 1.170488e-09\n",
       "WasFeaAtt:feature_decoded           128.239785 1.507319e-29\n",
       "WasLocAtt:all.roi                     4.929676 4.806379e-05\n",
       "WasFeaAtt:all.roi                     3.166977 4.184679e-03\n",
       "WasLocAtt:WasFeaAtt:feature_decoded   4.821828 2.812450e-02\n",
       "WasLocAtt:WasFeaAtt:all.roi           3.518290 1.766342e-03"
      ]
     },
     "metadata": {},
     "output_type": "display_data"
    }
   ],
   "source": [
    "#Ultimately, though, an ANOVA on the model seems to give the clearest results of the main effects and interactions \n",
    "# (note - the results here are the same as the F-test for the higher-order factors)\n",
    "\n",
    "anova(lmer_RQ1_final)\n",
    "\n",
    "# I think this is the approach I mainly used"
   ]
  },
  {
   "cell_type": "markdown",
   "id": "f8833935",
   "metadata": {},
   "source": [
    "---\n",
    "\n",
    "*I need to finalise this --- add notes on differences between likelihood method and ANOVAs w.r.t. SS...*\n",
    "\n",
    "\n",
    "# Post-hoc tests\n",
    "\n",
    "These seem to function in a similar way to post-hoc tests following an ANOVA. I have used the emmeans package, following RL's recommendation (see https://mran.microsoft.com/snapshot/2018-02-12/web/packages/emmeans/vignettes/interactions.html)"
   ]
  },
  {
   "cell_type": "code",
   "execution_count": 37,
   "id": "b9b0fb1f",
   "metadata": {},
   "outputs": [],
   "source": [
    "library(emmeans)"
   ]
  },
  {
   "cell_type": "code",
   "execution_count": 38,
   "id": "69bd0620",
   "metadata": {},
   "outputs": [
    {
     "name": "stderr",
     "output_type": "stream",
     "text": [
      "Note: D.f. calculations have been disabled because the number of observations exceeds 3000.\n",
      "To enable adjustments, add the argument 'pbkrtest.limit = 10080' (or larger)\n",
      "[or, globally, 'set emm_options(pbkrtest.limit = 10080)' or larger];\n",
      "but be warned that this may result in large computation time and memory use.\n",
      "Note: D.f. calculations have been disabled because the number of observations exceeds 3000.\n",
      "To enable adjustments, add the argument 'lmerTest.limit = 10080' (or larger)\n",
      "[or, globally, 'set emm_options(lmerTest.limit = 10080)' or larger];\n",
      "but be warned that this may result in large computation time and memory use.\n"
     ]
    },
    {
     "data": {
      "text/plain": [
       "feature_decoded = C:\n",
       " WasLocAtt_pairwise WasFeaAtt_pairwise estimate   SE  df z.ratio p.value\n",
       " 0 - 1              0 - 1                  21.0 2.43 Inf   8.632  <.0001\n",
       "\n",
       "feature_decoded = S:\n",
       " WasLocAtt_pairwise WasFeaAtt_pairwise estimate   SE  df z.ratio p.value\n",
       " 0 - 1              0 - 1                  17.7 2.43 Inf   7.281  <.0001\n",
       "\n",
       "Results are averaged over the levels of: all.roi \n",
       "Degrees-of-freedom method: asymptotic "
      ]
     },
     "metadata": {},
     "output_type": "display_data"
    }
   ],
   "source": [
    "# for instance, to look at one of the three-way interactions (SpatialAtt*FeaAtt*feature_decoded):\n",
    "\n",
    "emms_test <- emmeans(lmer_RQ1_final, ~ WasLocAtt*WasFeaAtt | feature_decoded)\n",
    "\n",
    "# this gives you the test of the interaction for C and S separately\n",
    "contrast(emms_test, interaction = \"pairwise\")\n"
   ]
  },
  {
   "cell_type": "code",
   "execution_count": 39,
   "id": "bb29975a",
   "metadata": {},
   "outputs": [
    {
     "name": "stderr",
     "output_type": "stream",
     "text": [
      "Note: D.f. calculations have been disabled because the number of observations exceeds 3000.\n",
      "To enable adjustments, add the argument 'pbkrtest.limit = 10080' (or larger)\n",
      "[or, globally, 'set emm_options(pbkrtest.limit = 10080)' or larger];\n",
      "but be warned that this may result in large computation time and memory use.\n",
      "Note: D.f. calculations have been disabled because the number of observations exceeds 3000.\n",
      "To enable adjustments, add the argument 'lmerTest.limit = 10080' (or larger)\n",
      "[or, globally, 'set emm_options(lmerTest.limit = 10080)' or larger];\n",
      "but be warned that this may result in large computation time and memory use.\n"
     ]
    },
    {
     "data": {
      "text/plain": [
       "all.roi = ACC:\n",
       " WasLocAtt_pairwise WasFeaAtt_pairwise estimate   SE  df z.ratio p.value\n",
       " 0 - 1              0 - 1                  20.6 2.95 Inf   6.978  <.0001\n",
       "\n",
       "all.roi = AIFO:\n",
       " WasLocAtt_pairwise WasFeaAtt_pairwise estimate   SE  df z.ratio p.value\n",
       " 0 - 1              0 - 1                  21.4 2.95 Inf   7.243  <.0001\n",
       "\n",
       "all.roi = IFJ:\n",
       " WasLocAtt_pairwise WasFeaAtt_pairwise estimate   SE  df z.ratio p.value\n",
       " 0 - 1              0 - 1                  24.6 2.95 Inf   8.337  <.0001\n",
       "\n",
       "all.roi = aIFS:\n",
       " WasLocAtt_pairwise WasFeaAtt_pairwise estimate   SE  df z.ratio p.value\n",
       " 0 - 1              0 - 1                  17.1 2.95 Inf   5.801  <.0001\n",
       "\n",
       "all.roi = pIFS:\n",
       " WasLocAtt_pairwise WasFeaAtt_pairwise estimate   SE  df z.ratio p.value\n",
       " 0 - 1              0 - 1                  19.4 2.95 Inf   6.572  <.0001\n",
       "\n",
       "all.roi = IPS:\n",
       " WasLocAtt_pairwise WasFeaAtt_pairwise estimate   SE  df z.ratio p.value\n",
       " 0 - 1              0 - 1                  19.7 2.95 Inf   6.660  <.0001\n",
       "\n",
       "all.roi = PM:\n",
       " WasLocAtt_pairwise WasFeaAtt_pairwise estimate   SE  df z.ratio p.value\n",
       " 0 - 1              0 - 1                  12.7 2.95 Inf   4.301  <.0001\n",
       "\n",
       "Results are averaged over the levels of: feature_decoded \n",
       "Degrees-of-freedom method: asymptotic "
      ]
     },
     "metadata": {},
     "output_type": "display_data"
    }
   ],
   "source": [
    "# and for the other three-way interaction (i.e., SpatialAtt*FeaAtt*all.roi):\n",
    "\n",
    "emms_test <- emmeans(lmer_RQ1_final, ~ WasLocAtt*WasFeaAtt | all.roi)\n",
    "\n",
    "# this gives you the test of the interaction for C and S separately\n",
    "contrast(emms_test, interaction = \"pairwise\")"
   ]
  },
  {
   "cell_type": "code",
   "execution_count": null,
   "id": "5c6379e5",
   "metadata": {},
   "outputs": [],
   "source": []
  }
 ],
 "metadata": {
  "kernelspec": {
   "display_name": "R",
   "language": "R",
   "name": "ir"
  },
  "language_info": {
   "codemirror_mode": "r",
   "file_extension": ".r",
   "mimetype": "text/x-r-source",
   "name": "R",
   "pygments_lexer": "r",
   "version": "3.6.1"
  }
 },
 "nbformat": 4,
 "nbformat_minor": 5
}
